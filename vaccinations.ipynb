{
 "cells": [
  {
   "cell_type": "markdown",
   "metadata": {},
   "source": [
    "# Vaccination Data\n",
    "\n",
    "Author: Daniel Cushing\n",
    "UIUC -- Scientific Visualizations -- Fall 2021\n",
    "\n",
    "In this exercise of data visualization we will explore the COVID-19 Vaccination dataset from Our World In Data (https://github.com/owid/covid-19-data). Our goal is to visualize vaccination data using an interactive map. Let's start with some data analysis.\n",
    "\n",
    "For a look at the final visualization refer to:\n",
    "- https://stay-vaccinated.herokuapp.com/\n",
    "- https://github.com/cushind/stay-vaccinated"
   ]
  },
  {
   "cell_type": "code",
   "execution_count": 1,
   "metadata": {},
   "outputs": [],
   "source": [
    "import numpy as np\n",
    "import pandas as pd"
   ]
  },
  {
   "cell_type": "code",
   "execution_count": 2,
   "metadata": {},
   "outputs": [
    {
     "data": {
      "text/html": [
       "<div>\n",
       "<style scoped>\n",
       "    .dataframe tbody tr th:only-of-type {\n",
       "        vertical-align: middle;\n",
       "    }\n",
       "\n",
       "    .dataframe tbody tr th {\n",
       "        vertical-align: top;\n",
       "    }\n",
       "\n",
       "    .dataframe thead th {\n",
       "        text-align: right;\n",
       "    }\n",
       "</style>\n",
       "<table border=\"1\" class=\"dataframe\">\n",
       "  <thead>\n",
       "    <tr style=\"text-align: right;\">\n",
       "      <th></th>\n",
       "      <th>location</th>\n",
       "      <th>iso_code</th>\n",
       "      <th>date</th>\n",
       "      <th>total_vaccinations</th>\n",
       "      <th>people_vaccinated</th>\n",
       "      <th>people_fully_vaccinated</th>\n",
       "      <th>total_boosters</th>\n",
       "      <th>daily_vaccinations_raw</th>\n",
       "      <th>daily_vaccinations</th>\n",
       "      <th>total_vaccinations_per_hundred</th>\n",
       "      <th>people_vaccinated_per_hundred</th>\n",
       "      <th>people_fully_vaccinated_per_hundred</th>\n",
       "      <th>total_boosters_per_hundred</th>\n",
       "      <th>daily_vaccinations_per_million</th>\n",
       "      <th>daily_people_vaccinated</th>\n",
       "      <th>daily_people_vaccinated_per_hundred</th>\n",
       "    </tr>\n",
       "  </thead>\n",
       "  <tbody>\n",
       "    <tr>\n",
       "      <th>0</th>\n",
       "      <td>Afghanistan</td>\n",
       "      <td>AFG</td>\n",
       "      <td>2021-02-22</td>\n",
       "      <td>0.0</td>\n",
       "      <td>0.0</td>\n",
       "      <td>NaN</td>\n",
       "      <td>NaN</td>\n",
       "      <td>NaN</td>\n",
       "      <td>NaN</td>\n",
       "      <td>0.0</td>\n",
       "      <td>0.0</td>\n",
       "      <td>NaN</td>\n",
       "      <td>NaN</td>\n",
       "      <td>NaN</td>\n",
       "      <td>NaN</td>\n",
       "      <td>NaN</td>\n",
       "    </tr>\n",
       "    <tr>\n",
       "      <th>1</th>\n",
       "      <td>Afghanistan</td>\n",
       "      <td>AFG</td>\n",
       "      <td>2021-02-23</td>\n",
       "      <td>NaN</td>\n",
       "      <td>NaN</td>\n",
       "      <td>NaN</td>\n",
       "      <td>NaN</td>\n",
       "      <td>NaN</td>\n",
       "      <td>1367.0</td>\n",
       "      <td>NaN</td>\n",
       "      <td>NaN</td>\n",
       "      <td>NaN</td>\n",
       "      <td>NaN</td>\n",
       "      <td>34.0</td>\n",
       "      <td>1367.0</td>\n",
       "      <td>0.003</td>\n",
       "    </tr>\n",
       "    <tr>\n",
       "      <th>2</th>\n",
       "      <td>Afghanistan</td>\n",
       "      <td>AFG</td>\n",
       "      <td>2021-02-24</td>\n",
       "      <td>NaN</td>\n",
       "      <td>NaN</td>\n",
       "      <td>NaN</td>\n",
       "      <td>NaN</td>\n",
       "      <td>NaN</td>\n",
       "      <td>1367.0</td>\n",
       "      <td>NaN</td>\n",
       "      <td>NaN</td>\n",
       "      <td>NaN</td>\n",
       "      <td>NaN</td>\n",
       "      <td>34.0</td>\n",
       "      <td>1367.0</td>\n",
       "      <td>0.003</td>\n",
       "    </tr>\n",
       "    <tr>\n",
       "      <th>3</th>\n",
       "      <td>Afghanistan</td>\n",
       "      <td>AFG</td>\n",
       "      <td>2021-02-25</td>\n",
       "      <td>NaN</td>\n",
       "      <td>NaN</td>\n",
       "      <td>NaN</td>\n",
       "      <td>NaN</td>\n",
       "      <td>NaN</td>\n",
       "      <td>1367.0</td>\n",
       "      <td>NaN</td>\n",
       "      <td>NaN</td>\n",
       "      <td>NaN</td>\n",
       "      <td>NaN</td>\n",
       "      <td>34.0</td>\n",
       "      <td>1367.0</td>\n",
       "      <td>0.003</td>\n",
       "    </tr>\n",
       "    <tr>\n",
       "      <th>4</th>\n",
       "      <td>Afghanistan</td>\n",
       "      <td>AFG</td>\n",
       "      <td>2021-02-26</td>\n",
       "      <td>NaN</td>\n",
       "      <td>NaN</td>\n",
       "      <td>NaN</td>\n",
       "      <td>NaN</td>\n",
       "      <td>NaN</td>\n",
       "      <td>1367.0</td>\n",
       "      <td>NaN</td>\n",
       "      <td>NaN</td>\n",
       "      <td>NaN</td>\n",
       "      <td>NaN</td>\n",
       "      <td>34.0</td>\n",
       "      <td>1367.0</td>\n",
       "      <td>0.003</td>\n",
       "    </tr>\n",
       "  </tbody>\n",
       "</table>\n",
       "</div>"
      ],
      "text/plain": [
       "      location iso_code        date  total_vaccinations  people_vaccinated  \\\n",
       "0  Afghanistan      AFG  2021-02-22                 0.0                0.0   \n",
       "1  Afghanistan      AFG  2021-02-23                 NaN                NaN   \n",
       "2  Afghanistan      AFG  2021-02-24                 NaN                NaN   \n",
       "3  Afghanistan      AFG  2021-02-25                 NaN                NaN   \n",
       "4  Afghanistan      AFG  2021-02-26                 NaN                NaN   \n",
       "\n",
       "   people_fully_vaccinated  total_boosters  daily_vaccinations_raw  \\\n",
       "0                      NaN             NaN                     NaN   \n",
       "1                      NaN             NaN                     NaN   \n",
       "2                      NaN             NaN                     NaN   \n",
       "3                      NaN             NaN                     NaN   \n",
       "4                      NaN             NaN                     NaN   \n",
       "\n",
       "   daily_vaccinations  total_vaccinations_per_hundred  \\\n",
       "0                 NaN                             0.0   \n",
       "1              1367.0                             NaN   \n",
       "2              1367.0                             NaN   \n",
       "3              1367.0                             NaN   \n",
       "4              1367.0                             NaN   \n",
       "\n",
       "   people_vaccinated_per_hundred  people_fully_vaccinated_per_hundred  \\\n",
       "0                            0.0                                  NaN   \n",
       "1                            NaN                                  NaN   \n",
       "2                            NaN                                  NaN   \n",
       "3                            NaN                                  NaN   \n",
       "4                            NaN                                  NaN   \n",
       "\n",
       "   total_boosters_per_hundred  daily_vaccinations_per_million  \\\n",
       "0                         NaN                             NaN   \n",
       "1                         NaN                            34.0   \n",
       "2                         NaN                            34.0   \n",
       "3                         NaN                            34.0   \n",
       "4                         NaN                            34.0   \n",
       "\n",
       "   daily_people_vaccinated  daily_people_vaccinated_per_hundred  \n",
       "0                      NaN                                  NaN  \n",
       "1                   1367.0                                0.003  \n",
       "2                   1367.0                                0.003  \n",
       "3                   1367.0                                0.003  \n",
       "4                   1367.0                                0.003  "
      ]
     },
     "execution_count": 2,
     "metadata": {},
     "output_type": "execute_result"
    }
   ],
   "source": [
    "vaccinations = pd.read_csv('./vaccinations/vaccinations.csv')\n",
    "vaccinations.head()"
   ]
  },
  {
   "cell_type": "markdown",
   "metadata": {},
   "source": [
    "## Exploratory Data Analysis\n",
    "\n",
    "Let's start by exploring our data. We want to know information about: what countries our in our dataset, what is the date range of our data, and what distinguishes the different vaccination records. We also want to know if it's necessary to perform any data cleaning."
   ]
  },
  {
   "cell_type": "code",
   "execution_count": 3,
   "metadata": {},
   "outputs": [
    {
     "name": "stdout",
     "output_type": "stream",
     "text": [
      "<class 'pandas.core.frame.DataFrame'>\n",
      "RangeIndex: 67739 entries, 0 to 67738\n",
      "Data columns (total 16 columns):\n",
      " #   Column                               Non-Null Count  Dtype  \n",
      "---  ------                               --------------  -----  \n",
      " 0   location                             67739 non-null  object \n",
      " 1   iso_code                             67739 non-null  object \n",
      " 2   date                                 67739 non-null  object \n",
      " 3   total_vaccinations                   38041 non-null  float64\n",
      " 4   people_vaccinated                    36405 non-null  float64\n",
      " 5   people_fully_vaccinated              33475 non-null  float64\n",
      " 6   total_boosters                       9745 non-null   float64\n",
      " 7   daily_vaccinations_raw               31842 non-null  float64\n",
      " 8   daily_vaccinations                   67378 non-null  float64\n",
      " 9   total_vaccinations_per_hundred       38041 non-null  float64\n",
      " 10  people_vaccinated_per_hundred        36405 non-null  float64\n",
      " 11  people_fully_vaccinated_per_hundred  33475 non-null  float64\n",
      " 12  total_boosters_per_hundred           9745 non-null   float64\n",
      " 13  daily_vaccinations_per_million       67378 non-null  float64\n",
      " 14  daily_people_vaccinated              66215 non-null  float64\n",
      " 15  daily_people_vaccinated_per_hundred  66215 non-null  float64\n",
      "dtypes: float64(13), object(3)\n",
      "memory usage: 8.3+ MB\n",
      "None\n"
     ]
    }
   ],
   "source": [
    "print(vaccinations.info())"
   ]
  },
  {
   "cell_type": "markdown",
   "metadata": {},
   "source": [
    "#### Unique Contries/Locations"
   ]
  },
  {
   "cell_type": "code",
   "execution_count": 4,
   "metadata": {},
   "outputs": [
    {
     "name": "stdout",
     "output_type": "stream",
     "text": [
      "Number of unique locations: 235\n"
     ]
    }
   ],
   "source": [
    "uniq_locations = vaccinations['location'].unique()\n",
    "num_locations = len(uniq_locations)\n",
    "print(f'Number of unique locations: {num_locations}')"
   ]
  },
  {
   "cell_type": "code",
   "execution_count": 5,
   "metadata": {},
   "outputs": [
    {
     "name": "stdout",
     "output_type": "stream",
     "text": [
      "Number of countries not represented in our data: 55\n"
     ]
    },
    {
     "data": {
      "text/plain": [
       "['Saint Pierre and Miquelon',\n",
       " 'Antarctica',\n",
       " 'Martinique',\n",
       " 'Palestine, State of',\n",
       " 'American Samoa',\n",
       " 'Eritrea',\n",
       " 'British Indian Ocean Territory',\n",
       " 'Viet Nam',\n",
       " 'Virgin Islands, British',\n",
       " 'Micronesia, Federated States of']"
      ]
     },
     "execution_count": 5,
     "metadata": {},
     "output_type": "execute_result"
    }
   ],
   "source": [
    "# list countries not represented in our data\n",
    "import pycountry\n",
    "\n",
    "country_list = list(pycountry.countries)\n",
    "country_list = [country.name for country in country_list]\n",
    "\n",
    "countries_not_included = list(set(country_list)-set(uniq_locations))\n",
    "print(f'Number of countries not represented in our data: {len(countries_not_included)}')\n",
    "\n",
    "countries_not_included[0:10]"
   ]
  },
  {
   "cell_type": "markdown",
   "metadata": {},
   "source": [
    "----\n",
    "#### The Greatest Red Crab Migration on Earth\n",
    "\n",
    "Every year, the greatest migration of red crabs appears on Christmas Island, a small Australian territory in the Indian Ocean, lying south of Java, Indonesia. During the first rainfall of the wet season, **millions** of male and female crabs leave the forests of the island and march to the shore to spawn the next generation of Red Crabs. \n",
    "\n",
    "\"In some areas you might see up to 100 crabs per square metre of beach or rock.\"\n",
    "\n",
    "Sources:\n",
    "- [Red Crab Migration](https://parksaustralia.gov.au/christmas/discover/highlights/red-crab-migration/)\n",
    "- [Wikipedia](https://en.wikipedia.org/wiki/Christmas_Island)\n",
    "- [Google Maps](https://www.google.com/maps/place/6798,+Christmas+Island/data=!4m2!3m1!1s0x2ef59a27e3c0a7cf:0x15e7d6090475ea16?sa=X&ved=2ahUKEwiq16brqeL0AhWBAp0JHbB2BCYQ8gF6BAhHEAE)\n",
    "\n",
    "----"
   ]
  },
  {
   "cell_type": "markdown",
   "metadata": {},
   "source": [
    "#### Date Range"
   ]
  },
  {
   "cell_type": "code",
   "execution_count": null,
   "metadata": {},
   "outputs": [],
   "source": [
    "vaccinations.sort_values(['date', 'location']).head()\n",
    "# output ommitted"
   ]
  },
  {
   "cell_type": "markdown",
   "metadata": {},
   "source": [
    "It looks like we have some data dating back to 2020-12-01, however it seems to be placeholder values. We also notice that some locations are not countries. For example `High income`. Let's see if we can get a better date range, and to do this we'll first check our last day in the dataset."
   ]
  },
  {
   "cell_type": "code",
   "execution_count": 7,
   "metadata": {},
   "outputs": [
    {
     "data": {
      "text/html": [
       "<div>\n",
       "<style scoped>\n",
       "    .dataframe tbody tr th:only-of-type {\n",
       "        vertical-align: middle;\n",
       "    }\n",
       "\n",
       "    .dataframe tbody tr th {\n",
       "        vertical-align: top;\n",
       "    }\n",
       "\n",
       "    .dataframe thead th {\n",
       "        text-align: right;\n",
       "    }\n",
       "</style>\n",
       "<table border=\"1\" class=\"dataframe\">\n",
       "  <thead>\n",
       "    <tr style=\"text-align: right;\">\n",
       "      <th></th>\n",
       "      <th>location</th>\n",
       "      <th>iso_code</th>\n",
       "      <th>date</th>\n",
       "      <th>total_vaccinations</th>\n",
       "      <th>people_vaccinated</th>\n",
       "      <th>people_fully_vaccinated</th>\n",
       "      <th>total_boosters</th>\n",
       "      <th>daily_vaccinations_raw</th>\n",
       "      <th>daily_vaccinations</th>\n",
       "      <th>total_vaccinations_per_hundred</th>\n",
       "      <th>people_vaccinated_per_hundred</th>\n",
       "      <th>people_fully_vaccinated_per_hundred</th>\n",
       "      <th>total_boosters_per_hundred</th>\n",
       "      <th>daily_vaccinations_per_million</th>\n",
       "      <th>daily_people_vaccinated</th>\n",
       "      <th>daily_people_vaccinated_per_hundred</th>\n",
       "    </tr>\n",
       "  </thead>\n",
       "  <tbody>\n",
       "    <tr>\n",
       "      <th>67738</th>\n",
       "      <td>Zimbabwe</td>\n",
       "      <td>ZWE</td>\n",
       "      <td>2021-12-12</td>\n",
       "      <td>6933837.0</td>\n",
       "      <td>3956872.0</td>\n",
       "      <td>2976965.0</td>\n",
       "      <td>NaN</td>\n",
       "      <td>22139.0</td>\n",
       "      <td>24893.0</td>\n",
       "      <td>45.94</td>\n",
       "      <td>26.22</td>\n",
       "      <td>19.73</td>\n",
       "      <td>NaN</td>\n",
       "      <td>1649.0</td>\n",
       "      <td>11618.0</td>\n",
       "      <td>0.077</td>\n",
       "    </tr>\n",
       "  </tbody>\n",
       "</table>\n",
       "</div>"
      ],
      "text/plain": [
       "       location iso_code        date  total_vaccinations  people_vaccinated  \\\n",
       "67738  Zimbabwe      ZWE  2021-12-12           6933837.0          3956872.0   \n",
       "\n",
       "       people_fully_vaccinated  total_boosters  daily_vaccinations_raw  \\\n",
       "67738                2976965.0             NaN                 22139.0   \n",
       "\n",
       "       daily_vaccinations  total_vaccinations_per_hundred  \\\n",
       "67738             24893.0                           45.94   \n",
       "\n",
       "       people_vaccinated_per_hundred  people_fully_vaccinated_per_hundred  \\\n",
       "67738                          26.22                                19.73   \n",
       "\n",
       "       total_boosters_per_hundred  daily_vaccinations_per_million  \\\n",
       "67738                         NaN                          1649.0   \n",
       "\n",
       "       daily_people_vaccinated  daily_people_vaccinated_per_hundred  \n",
       "67738                  11618.0                                0.077  "
      ]
     },
     "execution_count": 7,
     "metadata": {},
     "output_type": "execute_result"
    }
   ],
   "source": [
    "vaccinations.sort_values(['date'], ascending=False).head(1)"
   ]
  },
  {
   "cell_type": "code",
   "execution_count": 8,
   "metadata": {},
   "outputs": [
    {
     "data": {
      "text/html": [
       "<div>\n",
       "<style scoped>\n",
       "    .dataframe tbody tr th:only-of-type {\n",
       "        vertical-align: middle;\n",
       "    }\n",
       "\n",
       "    .dataframe tbody tr th {\n",
       "        vertical-align: top;\n",
       "    }\n",
       "\n",
       "    .dataframe thead th {\n",
       "        text-align: right;\n",
       "    }\n",
       "</style>\n",
       "<table border=\"1\" class=\"dataframe\">\n",
       "  <thead>\n",
       "    <tr style=\"text-align: right;\">\n",
       "      <th></th>\n",
       "      <th>location</th>\n",
       "      <th>iso_code</th>\n",
       "      <th>date</th>\n",
       "      <th>total_vaccinations</th>\n",
       "      <th>people_vaccinated</th>\n",
       "      <th>people_fully_vaccinated</th>\n",
       "      <th>total_boosters</th>\n",
       "      <th>daily_vaccinations_raw</th>\n",
       "      <th>daily_vaccinations</th>\n",
       "      <th>total_vaccinations_per_hundred</th>\n",
       "      <th>people_vaccinated_per_hundred</th>\n",
       "      <th>people_fully_vaccinated_per_hundred</th>\n",
       "      <th>total_boosters_per_hundred</th>\n",
       "      <th>daily_vaccinations_per_million</th>\n",
       "      <th>daily_people_vaccinated</th>\n",
       "      <th>daily_people_vaccinated_per_hundred</th>\n",
       "    </tr>\n",
       "  </thead>\n",
       "  <tbody>\n",
       "    <tr>\n",
       "      <th>35201</th>\n",
       "      <td>Lithuania</td>\n",
       "      <td>LTU</td>\n",
       "      <td>2021-01-01</td>\n",
       "      <td>9755.0</td>\n",
       "      <td>9755.0</td>\n",
       "      <td>NaN</td>\n",
       "      <td>NaN</td>\n",
       "      <td>0.0</td>\n",
       "      <td>1468.0</td>\n",
       "      <td>0.36</td>\n",
       "      <td>0.36</td>\n",
       "      <td>NaN</td>\n",
       "      <td>NaN</td>\n",
       "      <td>546.0</td>\n",
       "      <td>1468.0</td>\n",
       "      <td>0.055</td>\n",
       "    </tr>\n",
       "  </tbody>\n",
       "</table>\n",
       "</div>"
      ],
      "text/plain": [
       "        location iso_code        date  total_vaccinations  people_vaccinated  \\\n",
       "35201  Lithuania      LTU  2021-01-01              9755.0             9755.0   \n",
       "\n",
       "       people_fully_vaccinated  total_boosters  daily_vaccinations_raw  \\\n",
       "35201                      NaN             NaN                     0.0   \n",
       "\n",
       "       daily_vaccinations  total_vaccinations_per_hundred  \\\n",
       "35201              1468.0                            0.36   \n",
       "\n",
       "       people_vaccinated_per_hundred  people_fully_vaccinated_per_hundred  \\\n",
       "35201                           0.36                                  NaN   \n",
       "\n",
       "       total_boosters_per_hundred  daily_vaccinations_per_million  \\\n",
       "35201                         NaN                           546.0   \n",
       "\n",
       "       daily_people_vaccinated  daily_people_vaccinated_per_hundred  \n",
       "35201                   1468.0                                0.055  "
      ]
     },
     "execution_count": 8,
     "metadata": {},
     "output_type": "execute_result"
    }
   ],
   "source": [
    "# obtaining a better date range. Let's try between Jan 1, 2021 and Current\n",
    "\n",
    "vaccinations_2021 = vaccinations[vaccinations['date'] >= '2021-01-01']\n",
    "vaccinations_2021.sort_values('date').head(1)"
   ]
  },
  {
   "cell_type": "markdown",
   "metadata": {},
   "source": [
    "##### Date Range Validations\n",
    "\n",
    "Let's validate that we have data for each of the unique 235 locations on the last day of our data. "
   ]
  },
  {
   "cell_type": "code",
   "execution_count": 9,
   "metadata": {},
   "outputs": [
    {
     "name": "stdout",
     "output_type": "stream",
     "text": [
      "Number of locations with vaccinations recorded on 2021-12-12: 65\n"
     ]
    }
   ],
   "source": [
    "vaccinations_current = vaccinations[vaccinations['date'] == '2021-12-12']\n",
    "print(f'Number of locations with vaccinations recorded on 2021-12-12: { len(vaccinations_current[\"location\"].unique()) }')"
   ]
  },
  {
   "cell_type": "markdown",
   "metadata": {},
   "source": [
    "Let's test a few of the latest days to see if we ever get a full vaccination record for every location"
   ]
  },
  {
   "cell_type": "code",
   "execution_count": 10,
   "metadata": {},
   "outputs": [
    {
     "name": "stdout",
     "output_type": "stream",
     "text": [
      "Number of locations with vaccinations recorded on 2021-12-01: 197\n",
      "Number of locations with vaccinations recorded on 2021-12-02: 195\n",
      "Number of locations with vaccinations recorded on 2021-12-03: 193\n",
      "Number of locations with vaccinations recorded on 2021-12-04: 184\n",
      "Number of locations with vaccinations recorded on 2021-12-05: 181\n",
      "Number of locations with vaccinations recorded on 2021-12-06: 168\n",
      "Number of locations with vaccinations recorded on 2021-12-07: 155\n",
      "Number of locations with vaccinations recorded on 2021-12-08: 147\n",
      "Number of locations with vaccinations recorded on 2021-12-09: 130\n",
      "Number of locations with vaccinations recorded on 2021-12-10: 102\n",
      "Number of locations with vaccinations recorded on 2021-12-11: 83\n",
      "Number of locations with vaccinations recorded on 2021-12-12: 65\n"
     ]
    }
   ],
   "source": [
    "vaccinations_latest = vaccinations[vaccinations['date'] >= '2021-12-01']\n",
    "latest_dates = vaccinations_latest['date'].unique()\n",
    "\n",
    "for d in latest_dates:\n",
    "\tprint(f'Number of locations with vaccinations recorded on {d}: { len(vaccinations[vaccinations[\"date\"] == d][\"location\"].unique()) }')"
   ]
  },
  {
   "cell_type": "markdown",
   "metadata": {},
   "source": [
    "- We would have to search too far back to get a date where we have vaccination records for all of the 235 unique locations. Instead we will have to generate a dataframe that has the highest recorded vaccination count for each location and the recorded date.\n",
    "\n",
    "Lastly, let's distill our vaccination dataset down to contain only the important columns for our visualization, and let's make sure we get the last recorded vaccination count and the date."
   ]
  },
  {
   "cell_type": "code",
   "execution_count": 11,
   "metadata": {},
   "outputs": [
    {
     "data": {
      "text/html": [
       "<div>\n",
       "<style scoped>\n",
       "    .dataframe tbody tr th:only-of-type {\n",
       "        vertical-align: middle;\n",
       "    }\n",
       "\n",
       "    .dataframe tbody tr th {\n",
       "        vertical-align: top;\n",
       "    }\n",
       "\n",
       "    .dataframe thead th {\n",
       "        text-align: right;\n",
       "    }\n",
       "</style>\n",
       "<table border=\"1\" class=\"dataframe\">\n",
       "  <thead>\n",
       "    <tr style=\"text-align: right;\">\n",
       "      <th></th>\n",
       "      <th>iso_code</th>\n",
       "      <th>date</th>\n",
       "      <th>people_vaccinated</th>\n",
       "      <th>people_fully_vaccinated</th>\n",
       "    </tr>\n",
       "  </thead>\n",
       "  <tbody>\n",
       "    <tr>\n",
       "      <th>0</th>\n",
       "      <td>ZWE</td>\n",
       "      <td>2021-12-12</td>\n",
       "      <td>3956872.0</td>\n",
       "      <td>2976965.0</td>\n",
       "    </tr>\n",
       "    <tr>\n",
       "      <th>1</th>\n",
       "      <td>BRA</td>\n",
       "      <td>2021-12-12</td>\n",
       "      <td>165093216.0</td>\n",
       "      <td>139421689.0</td>\n",
       "    </tr>\n",
       "    <tr>\n",
       "      <th>2</th>\n",
       "      <td>MNE</td>\n",
       "      <td>2021-12-12</td>\n",
       "      <td>279793.0</td>\n",
       "      <td>263776.0</td>\n",
       "    </tr>\n",
       "    <tr>\n",
       "      <th>3</th>\n",
       "      <td>JPN</td>\n",
       "      <td>2021-12-12</td>\n",
       "      <td>100068828.0</td>\n",
       "      <td>98049848.0</td>\n",
       "    </tr>\n",
       "    <tr>\n",
       "      <th>4</th>\n",
       "      <td>JAM</td>\n",
       "      <td>2021-12-12</td>\n",
       "      <td>695900.0</td>\n",
       "      <td>538182.0</td>\n",
       "    </tr>\n",
       "    <tr>\n",
       "      <th>...</th>\n",
       "      <td>...</td>\n",
       "      <td>...</td>\n",
       "      <td>...</td>\n",
       "      <td>...</td>\n",
       "    </tr>\n",
       "    <tr>\n",
       "      <th>230</th>\n",
       "      <td>NRU</td>\n",
       "      <td>2021-08-31</td>\n",
       "      <td>7612.0</td>\n",
       "      <td>7251.0</td>\n",
       "    </tr>\n",
       "    <tr>\n",
       "      <th>231</th>\n",
       "      <td>TKM</td>\n",
       "      <td>2021-08-29</td>\n",
       "      <td>4374694.0</td>\n",
       "      <td>3206282.0</td>\n",
       "    </tr>\n",
       "    <tr>\n",
       "      <th>232</th>\n",
       "      <td>NIU</td>\n",
       "      <td>2021-08-02</td>\n",
       "      <td>1202.0</td>\n",
       "      <td>1150.0</td>\n",
       "    </tr>\n",
       "    <tr>\n",
       "      <th>233</th>\n",
       "      <td>SHN</td>\n",
       "      <td>2021-05-05</td>\n",
       "      <td>4361.0</td>\n",
       "      <td>3531.0</td>\n",
       "    </tr>\n",
       "    <tr>\n",
       "      <th>234</th>\n",
       "      <td>FLK</td>\n",
       "      <td>2021-04-14</td>\n",
       "      <td>2632.0</td>\n",
       "      <td>1775.0</td>\n",
       "    </tr>\n",
       "  </tbody>\n",
       "</table>\n",
       "<p>235 rows × 4 columns</p>\n",
       "</div>"
      ],
      "text/plain": [
       "    iso_code        date  people_vaccinated  people_fully_vaccinated\n",
       "0        ZWE  2021-12-12          3956872.0                2976965.0\n",
       "1        BRA  2021-12-12        165093216.0              139421689.0\n",
       "2        MNE  2021-12-12           279793.0                 263776.0\n",
       "3        JPN  2021-12-12        100068828.0               98049848.0\n",
       "4        JAM  2021-12-12           695900.0                 538182.0\n",
       "..       ...         ...                ...                      ...\n",
       "230      NRU  2021-08-31             7612.0                   7251.0\n",
       "231      TKM  2021-08-29          4374694.0                3206282.0\n",
       "232      NIU  2021-08-02             1202.0                   1150.0\n",
       "233      SHN  2021-05-05             4361.0                   3531.0\n",
       "234      FLK  2021-04-14             2632.0                   1775.0\n",
       "\n",
       "[235 rows x 4 columns]"
      ]
     },
     "execution_count": 11,
     "metadata": {},
     "output_type": "execute_result"
    }
   ],
   "source": [
    "colnames = ['iso_code', 'date', 'people_vaccinated', 'people_fully_vaccinated']\n",
    "\n",
    "vaccinations = vaccinations.sort_values(['date'], ascending=False)\n",
    "vaccinations = vaccinations[colnames]\n",
    "\n",
    "def get_current_location_data(iso_code):\n",
    "\tlocation_vaccinations = vaccinations[vaccinations['iso_code'] == iso_code].sort_values(['date'], ascending=False)\n",
    "\tfor _, row in location_vaccinations.iterrows():\n",
    "\t\tif row['people_vaccinated'] > 0:\n",
    "\t\t\treturn row\n",
    "\n",
    "\n",
    "pd.options.display.float_format = '{:.1f}'.format\n",
    "vaccinations_current = pd.DataFrame(columns = colnames)\n",
    "iso_uniq = vaccinations['iso_code'].unique()\n",
    "for iso in iso_uniq:\n",
    "\tvaccinations_current = vaccinations_current.append(get_current_location_data(iso), ignore_index=True)\n",
    "\n",
    "vaccinations_current"
   ]
  },
  {
   "cell_type": "markdown",
   "metadata": {},
   "source": [
    "\n",
    "----\n",
    "\n",
    "Finally, as part of our goal for this project we wanted to approximate the percentage of the overall population that has been vaccinated. Let's read in one more dataset. \n",
    "\n",
    "## Population Totals\n",
    "\n",
    "We will use the population dataset composed by The World Bank: https://data.worldbank.org/indicator/SP.POP.TOTL. This dataset shows total population based on the de facto definition of population, which counts all residents regardless of legal status or citizenship (the values shown are midyear estimates). "
   ]
  },
  {
   "cell_type": "code",
   "execution_count": 12,
   "metadata": {},
   "outputs": [
    {
     "data": {
      "text/html": [
       "<div>\n",
       "<style scoped>\n",
       "    .dataframe tbody tr th:only-of-type {\n",
       "        vertical-align: middle;\n",
       "    }\n",
       "\n",
       "    .dataframe tbody tr th {\n",
       "        vertical-align: top;\n",
       "    }\n",
       "\n",
       "    .dataframe thead th {\n",
       "        text-align: right;\n",
       "    }\n",
       "</style>\n",
       "<table border=\"1\" class=\"dataframe\">\n",
       "  <thead>\n",
       "    <tr style=\"text-align: right;\">\n",
       "      <th></th>\n",
       "      <th>Country Name</th>\n",
       "      <th>Country Code</th>\n",
       "      <th>Indicator Name</th>\n",
       "      <th>Indicator Code</th>\n",
       "      <th>1960</th>\n",
       "      <th>1961</th>\n",
       "      <th>1962</th>\n",
       "      <th>1963</th>\n",
       "      <th>1964</th>\n",
       "      <th>1965</th>\n",
       "      <th>...</th>\n",
       "      <th>2012</th>\n",
       "      <th>2013</th>\n",
       "      <th>2014</th>\n",
       "      <th>2015</th>\n",
       "      <th>2016</th>\n",
       "      <th>2017</th>\n",
       "      <th>2018</th>\n",
       "      <th>2019</th>\n",
       "      <th>2020</th>\n",
       "      <th>Unnamed: 65</th>\n",
       "    </tr>\n",
       "  </thead>\n",
       "  <tbody>\n",
       "    <tr>\n",
       "      <th>0</th>\n",
       "      <td>Aruba</td>\n",
       "      <td>ABW</td>\n",
       "      <td>Population, total</td>\n",
       "      <td>SP.POP.TOTL</td>\n",
       "      <td>54208.0</td>\n",
       "      <td>55434.0</td>\n",
       "      <td>56234.0</td>\n",
       "      <td>56699.0</td>\n",
       "      <td>57029.0</td>\n",
       "      <td>57357.0</td>\n",
       "      <td>...</td>\n",
       "      <td>102565.0</td>\n",
       "      <td>103165.0</td>\n",
       "      <td>103776.0</td>\n",
       "      <td>104339.0</td>\n",
       "      <td>104865.0</td>\n",
       "      <td>105361.0</td>\n",
       "      <td>105846.0</td>\n",
       "      <td>106310.0</td>\n",
       "      <td>106766.0</td>\n",
       "      <td>NaN</td>\n",
       "    </tr>\n",
       "    <tr>\n",
       "      <th>1</th>\n",
       "      <td>Africa Eastern and Southern</td>\n",
       "      <td>AFE</td>\n",
       "      <td>Population, total</td>\n",
       "      <td>SP.POP.TOTL</td>\n",
       "      <td>130836765.0</td>\n",
       "      <td>134159786.0</td>\n",
       "      <td>137614644.0</td>\n",
       "      <td>141202036.0</td>\n",
       "      <td>144920186.0</td>\n",
       "      <td>148769974.0</td>\n",
       "      <td>...</td>\n",
       "      <td>547482863.0</td>\n",
       "      <td>562601578.0</td>\n",
       "      <td>578075373.0</td>\n",
       "      <td>593871847.0</td>\n",
       "      <td>609978946.0</td>\n",
       "      <td>626392880.0</td>\n",
       "      <td>643090131.0</td>\n",
       "      <td>660046272.0</td>\n",
       "      <td>677243299.0</td>\n",
       "      <td>NaN</td>\n",
       "    </tr>\n",
       "    <tr>\n",
       "      <th>2</th>\n",
       "      <td>Afghanistan</td>\n",
       "      <td>AFG</td>\n",
       "      <td>Population, total</td>\n",
       "      <td>SP.POP.TOTL</td>\n",
       "      <td>8996967.0</td>\n",
       "      <td>9169406.0</td>\n",
       "      <td>9351442.0</td>\n",
       "      <td>9543200.0</td>\n",
       "      <td>9744772.0</td>\n",
       "      <td>9956318.0</td>\n",
       "      <td>...</td>\n",
       "      <td>31161378.0</td>\n",
       "      <td>32269592.0</td>\n",
       "      <td>33370804.0</td>\n",
       "      <td>34413603.0</td>\n",
       "      <td>35383028.0</td>\n",
       "      <td>36296111.0</td>\n",
       "      <td>37171922.0</td>\n",
       "      <td>38041757.0</td>\n",
       "      <td>38928341.0</td>\n",
       "      <td>NaN</td>\n",
       "    </tr>\n",
       "    <tr>\n",
       "      <th>3</th>\n",
       "      <td>Africa Western and Central</td>\n",
       "      <td>AFW</td>\n",
       "      <td>Population, total</td>\n",
       "      <td>SP.POP.TOTL</td>\n",
       "      <td>96396419.0</td>\n",
       "      <td>98407221.0</td>\n",
       "      <td>100506960.0</td>\n",
       "      <td>102691339.0</td>\n",
       "      <td>104953470.0</td>\n",
       "      <td>107289875.0</td>\n",
       "      <td>...</td>\n",
       "      <td>370243017.0</td>\n",
       "      <td>380437896.0</td>\n",
       "      <td>390882979.0</td>\n",
       "      <td>401586651.0</td>\n",
       "      <td>412551299.0</td>\n",
       "      <td>423769930.0</td>\n",
       "      <td>435229381.0</td>\n",
       "      <td>446911598.0</td>\n",
       "      <td>458803476.0</td>\n",
       "      <td>NaN</td>\n",
       "    </tr>\n",
       "    <tr>\n",
       "      <th>4</th>\n",
       "      <td>Angola</td>\n",
       "      <td>AGO</td>\n",
       "      <td>Population, total</td>\n",
       "      <td>SP.POP.TOTL</td>\n",
       "      <td>5454938.0</td>\n",
       "      <td>5531451.0</td>\n",
       "      <td>5608499.0</td>\n",
       "      <td>5679409.0</td>\n",
       "      <td>5734995.0</td>\n",
       "      <td>5770573.0</td>\n",
       "      <td>...</td>\n",
       "      <td>25107925.0</td>\n",
       "      <td>26015786.0</td>\n",
       "      <td>26941773.0</td>\n",
       "      <td>27884380.0</td>\n",
       "      <td>28842482.0</td>\n",
       "      <td>29816769.0</td>\n",
       "      <td>30809787.0</td>\n",
       "      <td>31825299.0</td>\n",
       "      <td>32866268.0</td>\n",
       "      <td>NaN</td>\n",
       "    </tr>\n",
       "  </tbody>\n",
       "</table>\n",
       "<p>5 rows × 66 columns</p>\n",
       "</div>"
      ],
      "text/plain": [
       "                  Country Name Country Code     Indicator Name Indicator Code  \\\n",
       "0                        Aruba          ABW  Population, total    SP.POP.TOTL   \n",
       "1  Africa Eastern and Southern          AFE  Population, total    SP.POP.TOTL   \n",
       "2                  Afghanistan          AFG  Population, total    SP.POP.TOTL   \n",
       "3   Africa Western and Central          AFW  Population, total    SP.POP.TOTL   \n",
       "4                       Angola          AGO  Population, total    SP.POP.TOTL   \n",
       "\n",
       "         1960        1961        1962        1963        1964        1965  \\\n",
       "0     54208.0     55434.0     56234.0     56699.0     57029.0     57357.0   \n",
       "1 130836765.0 134159786.0 137614644.0 141202036.0 144920186.0 148769974.0   \n",
       "2   8996967.0   9169406.0   9351442.0   9543200.0   9744772.0   9956318.0   \n",
       "3  96396419.0  98407221.0 100506960.0 102691339.0 104953470.0 107289875.0   \n",
       "4   5454938.0   5531451.0   5608499.0   5679409.0   5734995.0   5770573.0   \n",
       "\n",
       "   ...        2012        2013        2014        2015        2016  \\\n",
       "0  ...    102565.0    103165.0    103776.0    104339.0    104865.0   \n",
       "1  ... 547482863.0 562601578.0 578075373.0 593871847.0 609978946.0   \n",
       "2  ...  31161378.0  32269592.0  33370804.0  34413603.0  35383028.0   \n",
       "3  ... 370243017.0 380437896.0 390882979.0 401586651.0 412551299.0   \n",
       "4  ...  25107925.0  26015786.0  26941773.0  27884380.0  28842482.0   \n",
       "\n",
       "         2017        2018        2019        2020  Unnamed: 65  \n",
       "0    105361.0    105846.0    106310.0    106766.0          NaN  \n",
       "1 626392880.0 643090131.0 660046272.0 677243299.0          NaN  \n",
       "2  36296111.0  37171922.0  38041757.0  38928341.0          NaN  \n",
       "3 423769930.0 435229381.0 446911598.0 458803476.0          NaN  \n",
       "4  29816769.0  30809787.0  31825299.0  32866268.0          NaN  \n",
       "\n",
       "[5 rows x 66 columns]"
      ]
     },
     "execution_count": 12,
     "metadata": {},
     "output_type": "execute_result"
    }
   ],
   "source": [
    "population = pd.read_csv('./population/population_totals.csv')\n",
    "population.head()"
   ]
  },
  {
   "cell_type": "code",
   "execution_count": 13,
   "metadata": {},
   "outputs": [
    {
     "data": {
      "text/plain": [
       "array(['Population, total'], dtype=object)"
      ]
     },
     "execution_count": 13,
     "metadata": {},
     "output_type": "execute_result"
    }
   ],
   "source": [
    "population['Indicator Name'].unique()"
   ]
  },
  {
   "cell_type": "code",
   "execution_count": 14,
   "metadata": {},
   "outputs": [],
   "source": [
    "# Let's reduce our dataframe down to the columns we care about\n",
    "\n",
    "population = population[['Country Name','Country Code', '2020']]\n",
    "population = population.rename(columns={\"Country Name\": \"location\", \"Country Code\": \"iso_code\", \"2020\" : \"total_population\"})"
   ]
  },
  {
   "cell_type": "markdown",
   "metadata": {},
   "source": [
    "Finally, let's add 1% population growth to our 2020 total population, because (1) our vaccination data is current to 12-12-2020 and (2) the population data is based on midyear counts\n",
    "- https://ourworldindata.org/world-population-growth"
   ]
  },
  {
   "cell_type": "code",
   "execution_count": 15,
   "metadata": {},
   "outputs": [
    {
     "data": {
      "text/html": [
       "<div>\n",
       "<style scoped>\n",
       "    .dataframe tbody tr th:only-of-type {\n",
       "        vertical-align: middle;\n",
       "    }\n",
       "\n",
       "    .dataframe tbody tr th {\n",
       "        vertical-align: top;\n",
       "    }\n",
       "\n",
       "    .dataframe thead th {\n",
       "        text-align: right;\n",
       "    }\n",
       "</style>\n",
       "<table border=\"1\" class=\"dataframe\">\n",
       "  <thead>\n",
       "    <tr style=\"text-align: right;\">\n",
       "      <th></th>\n",
       "      <th>location</th>\n",
       "      <th>iso_code</th>\n",
       "      <th>total_population</th>\n",
       "    </tr>\n",
       "  </thead>\n",
       "  <tbody>\n",
       "    <tr>\n",
       "      <th>0</th>\n",
       "      <td>Aruba</td>\n",
       "      <td>ABW</td>\n",
       "      <td>107833.0</td>\n",
       "    </tr>\n",
       "    <tr>\n",
       "      <th>1</th>\n",
       "      <td>Africa Eastern and Southern</td>\n",
       "      <td>AFE</td>\n",
       "      <td>684015731.0</td>\n",
       "    </tr>\n",
       "    <tr>\n",
       "      <th>2</th>\n",
       "      <td>Afghanistan</td>\n",
       "      <td>AFG</td>\n",
       "      <td>39317624.0</td>\n",
       "    </tr>\n",
       "    <tr>\n",
       "      <th>3</th>\n",
       "      <td>Africa Western and Central</td>\n",
       "      <td>AFW</td>\n",
       "      <td>463391510.0</td>\n",
       "    </tr>\n",
       "    <tr>\n",
       "      <th>4</th>\n",
       "      <td>Angola</td>\n",
       "      <td>AGO</td>\n",
       "      <td>33194930.0</td>\n",
       "    </tr>\n",
       "    <tr>\n",
       "      <th>...</th>\n",
       "      <td>...</td>\n",
       "      <td>...</td>\n",
       "      <td>...</td>\n",
       "    </tr>\n",
       "    <tr>\n",
       "      <th>261</th>\n",
       "      <td>Kosovo</td>\n",
       "      <td>XKX</td>\n",
       "      <td>1793131.0</td>\n",
       "    </tr>\n",
       "    <tr>\n",
       "      <th>262</th>\n",
       "      <td>Yemen, Rep.</td>\n",
       "      <td>YEM</td>\n",
       "      <td>30124227.0</td>\n",
       "    </tr>\n",
       "    <tr>\n",
       "      <th>263</th>\n",
       "      <td>South Africa</td>\n",
       "      <td>ZAF</td>\n",
       "      <td>59901776.0</td>\n",
       "    </tr>\n",
       "    <tr>\n",
       "      <th>264</th>\n",
       "      <td>Zambia</td>\n",
       "      <td>ZMB</td>\n",
       "      <td>18567795.0</td>\n",
       "    </tr>\n",
       "    <tr>\n",
       "      <th>265</th>\n",
       "      <td>Zimbabwe</td>\n",
       "      <td>ZWE</td>\n",
       "      <td>15011556.0</td>\n",
       "    </tr>\n",
       "  </tbody>\n",
       "</table>\n",
       "<p>266 rows × 3 columns</p>\n",
       "</div>"
      ],
      "text/plain": [
       "                        location iso_code  total_population\n",
       "0                          Aruba      ABW          107833.0\n",
       "1    Africa Eastern and Southern      AFE       684015731.0\n",
       "2                    Afghanistan      AFG        39317624.0\n",
       "3     Africa Western and Central      AFW       463391510.0\n",
       "4                         Angola      AGO        33194930.0\n",
       "..                           ...      ...               ...\n",
       "261                       Kosovo      XKX         1793131.0\n",
       "262                  Yemen, Rep.      YEM        30124227.0\n",
       "263                 South Africa      ZAF        59901776.0\n",
       "264                       Zambia      ZMB        18567795.0\n",
       "265                     Zimbabwe      ZWE        15011556.0\n",
       "\n",
       "[266 rows x 3 columns]"
      ]
     },
     "execution_count": 15,
     "metadata": {},
     "output_type": "execute_result"
    }
   ],
   "source": [
    "population['total_population'] = population['total_population'].mul(1.01).apply(np.floor)\n",
    "population"
   ]
  },
  {
   "cell_type": "markdown",
   "metadata": {},
   "source": [
    "\n",
    "----\n",
    "\n",
    "## Generating Data For Interactive Map"
   ]
  },
  {
   "cell_type": "markdown",
   "metadata": {},
   "source": [
    "Finally let's quickly prepare our data for an interactive map so we can focus on cool data visualizations. We'll start with mergin our datasets."
   ]
  },
  {
   "cell_type": "code",
   "execution_count": 16,
   "metadata": {},
   "outputs": [
    {
     "data": {
      "text/html": [
       "<div>\n",
       "<style scoped>\n",
       "    .dataframe tbody tr th:only-of-type {\n",
       "        vertical-align: middle;\n",
       "    }\n",
       "\n",
       "    .dataframe tbody tr th {\n",
       "        vertical-align: top;\n",
       "    }\n",
       "\n",
       "    .dataframe thead th {\n",
       "        text-align: right;\n",
       "    }\n",
       "</style>\n",
       "<table border=\"1\" class=\"dataframe\">\n",
       "  <thead>\n",
       "    <tr style=\"text-align: right;\">\n",
       "      <th></th>\n",
       "      <th>iso_code</th>\n",
       "      <th>date</th>\n",
       "      <th>people_vaccinated</th>\n",
       "      <th>people_fully_vaccinated</th>\n",
       "      <th>location</th>\n",
       "      <th>total_population</th>\n",
       "    </tr>\n",
       "  </thead>\n",
       "  <tbody>\n",
       "    <tr>\n",
       "      <th>0</th>\n",
       "      <td>ZWE</td>\n",
       "      <td>2021-12-12</td>\n",
       "      <td>3956872.0</td>\n",
       "      <td>2976965.0</td>\n",
       "      <td>Zimbabwe</td>\n",
       "      <td>15011556.0</td>\n",
       "    </tr>\n",
       "    <tr>\n",
       "      <th>1</th>\n",
       "      <td>BRA</td>\n",
       "      <td>2021-12-12</td>\n",
       "      <td>165093216.0</td>\n",
       "      <td>139421689.0</td>\n",
       "      <td>Brazil</td>\n",
       "      <td>214685003.0</td>\n",
       "    </tr>\n",
       "    <tr>\n",
       "      <th>2</th>\n",
       "      <td>MNE</td>\n",
       "      <td>2021-12-12</td>\n",
       "      <td>279793.0</td>\n",
       "      <td>263776.0</td>\n",
       "      <td>Montenegro</td>\n",
       "      <td>627935.0</td>\n",
       "    </tr>\n",
       "    <tr>\n",
       "      <th>3</th>\n",
       "      <td>JPN</td>\n",
       "      <td>2021-12-12</td>\n",
       "      <td>100068828.0</td>\n",
       "      <td>98049848.0</td>\n",
       "      <td>Japan</td>\n",
       "      <td>127094381.0</td>\n",
       "    </tr>\n",
       "    <tr>\n",
       "      <th>4</th>\n",
       "      <td>JAM</td>\n",
       "      <td>2021-12-12</td>\n",
       "      <td>695900.0</td>\n",
       "      <td>538182.0</td>\n",
       "      <td>Jamaica</td>\n",
       "      <td>2990772.0</td>\n",
       "    </tr>\n",
       "    <tr>\n",
       "      <th>...</th>\n",
       "      <td>...</td>\n",
       "      <td>...</td>\n",
       "      <td>...</td>\n",
       "      <td>...</td>\n",
       "      <td>...</td>\n",
       "      <td>...</td>\n",
       "    </tr>\n",
       "    <tr>\n",
       "      <th>199</th>\n",
       "      <td>BIH</td>\n",
       "      <td>2021-11-04</td>\n",
       "      <td>833233.0</td>\n",
       "      <td>720631.0</td>\n",
       "      <td>Bosnia and Herzegovina</td>\n",
       "      <td>3313623.0</td>\n",
       "    </tr>\n",
       "    <tr>\n",
       "      <th>200</th>\n",
       "      <td>TUV</td>\n",
       "      <td>2021-10-22</td>\n",
       "      <td>6230.0</td>\n",
       "      <td>5884.0</td>\n",
       "      <td>Tuvalu</td>\n",
       "      <td>11909.0</td>\n",
       "    </tr>\n",
       "    <tr>\n",
       "      <th>201</th>\n",
       "      <td>MCO</td>\n",
       "      <td>2021-09-16</td>\n",
       "      <td>26672.0</td>\n",
       "      <td>23308.0</td>\n",
       "      <td>Monaco</td>\n",
       "      <td>39636.0</td>\n",
       "    </tr>\n",
       "    <tr>\n",
       "      <th>202</th>\n",
       "      <td>NRU</td>\n",
       "      <td>2021-08-31</td>\n",
       "      <td>7612.0</td>\n",
       "      <td>7251.0</td>\n",
       "      <td>Nauru</td>\n",
       "      <td>10942.0</td>\n",
       "    </tr>\n",
       "    <tr>\n",
       "      <th>203</th>\n",
       "      <td>TKM</td>\n",
       "      <td>2021-08-29</td>\n",
       "      <td>4374694.0</td>\n",
       "      <td>3206282.0</td>\n",
       "      <td>Turkmenistan</td>\n",
       "      <td>6091498.0</td>\n",
       "    </tr>\n",
       "  </tbody>\n",
       "</table>\n",
       "<p>204 rows × 6 columns</p>\n",
       "</div>"
      ],
      "text/plain": [
       "    iso_code        date  people_vaccinated  people_fully_vaccinated  \\\n",
       "0        ZWE  2021-12-12          3956872.0                2976965.0   \n",
       "1        BRA  2021-12-12        165093216.0              139421689.0   \n",
       "2        MNE  2021-12-12           279793.0                 263776.0   \n",
       "3        JPN  2021-12-12        100068828.0               98049848.0   \n",
       "4        JAM  2021-12-12           695900.0                 538182.0   \n",
       "..       ...         ...                ...                      ...   \n",
       "199      BIH  2021-11-04           833233.0                 720631.0   \n",
       "200      TUV  2021-10-22             6230.0                   5884.0   \n",
       "201      MCO  2021-09-16            26672.0                  23308.0   \n",
       "202      NRU  2021-08-31             7612.0                   7251.0   \n",
       "203      TKM  2021-08-29          4374694.0                3206282.0   \n",
       "\n",
       "                   location  total_population  \n",
       "0                  Zimbabwe        15011556.0  \n",
       "1                    Brazil       214685003.0  \n",
       "2                Montenegro          627935.0  \n",
       "3                     Japan       127094381.0  \n",
       "4                   Jamaica         2990772.0  \n",
       "..                      ...               ...  \n",
       "199  Bosnia and Herzegovina         3313623.0  \n",
       "200                  Tuvalu           11909.0  \n",
       "201                  Monaco           39636.0  \n",
       "202                   Nauru           10942.0  \n",
       "203            Turkmenistan         6091498.0  \n",
       "\n",
       "[204 rows x 6 columns]"
      ]
     },
     "execution_count": 16,
     "metadata": {},
     "output_type": "execute_result"
    }
   ],
   "source": [
    "vaccinations_current = pd.merge(vaccinations_current, population, on = 'iso_code')\n",
    "vaccinations_current"
   ]
  },
  {
   "cell_type": "code",
   "execution_count": 17,
   "metadata": {},
   "outputs": [
    {
     "data": {
      "text/html": [
       "<div>\n",
       "<style scoped>\n",
       "    .dataframe tbody tr th:only-of-type {\n",
       "        vertical-align: middle;\n",
       "    }\n",
       "\n",
       "    .dataframe tbody tr th {\n",
       "        vertical-align: top;\n",
       "    }\n",
       "\n",
       "    .dataframe thead th {\n",
       "        text-align: right;\n",
       "    }\n",
       "</style>\n",
       "<table border=\"1\" class=\"dataframe\">\n",
       "  <thead>\n",
       "    <tr style=\"text-align: right;\">\n",
       "      <th></th>\n",
       "      <th>iso_code</th>\n",
       "      <th>date</th>\n",
       "      <th>people_vaccinated</th>\n",
       "      <th>people_fully_vaccinated</th>\n",
       "      <th>location</th>\n",
       "      <th>total_population</th>\n",
       "    </tr>\n",
       "  </thead>\n",
       "  <tbody>\n",
       "    <tr>\n",
       "      <th>117</th>\n",
       "      <td>GIB</td>\n",
       "      <td>2021-12-08</td>\n",
       "      <td>41025.0</td>\n",
       "      <td>39870.0</td>\n",
       "      <td>Gibraltar</td>\n",
       "      <td>34027.0</td>\n",
       "    </tr>\n",
       "  </tbody>\n",
       "</table>\n",
       "</div>"
      ],
      "text/plain": [
       "    iso_code        date  people_vaccinated  people_fully_vaccinated  \\\n",
       "117      GIB  2021-12-08            41025.0                  39870.0   \n",
       "\n",
       "      location  total_population  \n",
       "117  Gibraltar           34027.0  "
      ]
     },
     "execution_count": 17,
     "metadata": {},
     "output_type": "execute_result"
    }
   ],
   "source": [
    "vaccinations_current[vaccinations_current['people_vaccinated'] > vaccinations_current['total_population']]"
   ]
  },
  {
   "cell_type": "markdown",
   "metadata": {},
   "source": [
    "Let's correct one error in our data, where a country has a higher vaccination count than population."
   ]
  },
  {
   "cell_type": "code",
   "execution_count": 18,
   "metadata": {},
   "outputs": [
    {
     "data": {
      "text/html": [
       "<div>\n",
       "<style scoped>\n",
       "    .dataframe tbody tr th:only-of-type {\n",
       "        vertical-align: middle;\n",
       "    }\n",
       "\n",
       "    .dataframe tbody tr th {\n",
       "        vertical-align: top;\n",
       "    }\n",
       "\n",
       "    .dataframe thead th {\n",
       "        text-align: right;\n",
       "    }\n",
       "</style>\n",
       "<table border=\"1\" class=\"dataframe\">\n",
       "  <thead>\n",
       "    <tr style=\"text-align: right;\">\n",
       "      <th></th>\n",
       "      <th>iso_code</th>\n",
       "      <th>date</th>\n",
       "      <th>people_vaccinated</th>\n",
       "      <th>people_fully_vaccinated</th>\n",
       "      <th>location</th>\n",
       "      <th>total_population</th>\n",
       "    </tr>\n",
       "  </thead>\n",
       "  <tbody>\n",
       "  </tbody>\n",
       "</table>\n",
       "</div>"
      ],
      "text/plain": [
       "Empty DataFrame\n",
       "Columns: [iso_code, date, people_vaccinated, people_fully_vaccinated, location, total_population]\n",
       "Index: []"
      ]
     },
     "execution_count": 18,
     "metadata": {},
     "output_type": "execute_result"
    }
   ],
   "source": [
    "vaccinations_current.drop(vaccinations_current[vaccinations_current['iso_code'] == \"GIB\"].index, inplace = True)\n",
    "vaccinations_current[vaccinations_current['people_vaccinated'] > vaccinations_current['total_population']]"
   ]
  },
  {
   "cell_type": "code",
   "execution_count": 19,
   "metadata": {},
   "outputs": [
    {
     "data": {
      "text/html": [
       "<div>\n",
       "<style scoped>\n",
       "    .dataframe tbody tr th:only-of-type {\n",
       "        vertical-align: middle;\n",
       "    }\n",
       "\n",
       "    .dataframe tbody tr th {\n",
       "        vertical-align: top;\n",
       "    }\n",
       "\n",
       "    .dataframe thead th {\n",
       "        text-align: right;\n",
       "    }\n",
       "</style>\n",
       "<table border=\"1\" class=\"dataframe\">\n",
       "  <thead>\n",
       "    <tr style=\"text-align: right;\">\n",
       "      <th></th>\n",
       "      <th>iso_code</th>\n",
       "      <th>date</th>\n",
       "      <th>people_vaccinated</th>\n",
       "      <th>people_fully_vaccinated</th>\n",
       "      <th>location</th>\n",
       "      <th>total_population</th>\n",
       "    </tr>\n",
       "  </thead>\n",
       "  <tbody>\n",
       "    <tr>\n",
       "      <th>0</th>\n",
       "      <td>ZWE</td>\n",
       "      <td>2021-12-12</td>\n",
       "      <td>3956872.0</td>\n",
       "      <td>2976965.0</td>\n",
       "      <td>Zimbabwe</td>\n",
       "      <td>15011556.0</td>\n",
       "    </tr>\n",
       "    <tr>\n",
       "      <th>1</th>\n",
       "      <td>BRA</td>\n",
       "      <td>2021-12-12</td>\n",
       "      <td>165093216.0</td>\n",
       "      <td>139421689.0</td>\n",
       "      <td>Brazil</td>\n",
       "      <td>214685003.0</td>\n",
       "    </tr>\n",
       "    <tr>\n",
       "      <th>2</th>\n",
       "      <td>MNE</td>\n",
       "      <td>2021-12-12</td>\n",
       "      <td>279793.0</td>\n",
       "      <td>263776.0</td>\n",
       "      <td>Montenegro</td>\n",
       "      <td>627935.0</td>\n",
       "    </tr>\n",
       "    <tr>\n",
       "      <th>3</th>\n",
       "      <td>JPN</td>\n",
       "      <td>2021-12-12</td>\n",
       "      <td>100068828.0</td>\n",
       "      <td>98049848.0</td>\n",
       "      <td>Japan</td>\n",
       "      <td>127094381.0</td>\n",
       "    </tr>\n",
       "    <tr>\n",
       "      <th>4</th>\n",
       "      <td>JAM</td>\n",
       "      <td>2021-12-12</td>\n",
       "      <td>695900.0</td>\n",
       "      <td>538182.0</td>\n",
       "      <td>Jamaica</td>\n",
       "      <td>2990772.0</td>\n",
       "    </tr>\n",
       "    <tr>\n",
       "      <th>...</th>\n",
       "      <td>...</td>\n",
       "      <td>...</td>\n",
       "      <td>...</td>\n",
       "      <td>...</td>\n",
       "      <td>...</td>\n",
       "      <td>...</td>\n",
       "    </tr>\n",
       "    <tr>\n",
       "      <th>199</th>\n",
       "      <td>BIH</td>\n",
       "      <td>2021-11-04</td>\n",
       "      <td>833233.0</td>\n",
       "      <td>720631.0</td>\n",
       "      <td>Bosnia and Herzegovina</td>\n",
       "      <td>3313623.0</td>\n",
       "    </tr>\n",
       "    <tr>\n",
       "      <th>200</th>\n",
       "      <td>TUV</td>\n",
       "      <td>2021-10-22</td>\n",
       "      <td>6230.0</td>\n",
       "      <td>5884.0</td>\n",
       "      <td>Tuvalu</td>\n",
       "      <td>11909.0</td>\n",
       "    </tr>\n",
       "    <tr>\n",
       "      <th>201</th>\n",
       "      <td>MCO</td>\n",
       "      <td>2021-09-16</td>\n",
       "      <td>26672.0</td>\n",
       "      <td>23308.0</td>\n",
       "      <td>Monaco</td>\n",
       "      <td>39636.0</td>\n",
       "    </tr>\n",
       "    <tr>\n",
       "      <th>202</th>\n",
       "      <td>NRU</td>\n",
       "      <td>2021-08-31</td>\n",
       "      <td>7612.0</td>\n",
       "      <td>7251.0</td>\n",
       "      <td>Nauru</td>\n",
       "      <td>10942.0</td>\n",
       "    </tr>\n",
       "    <tr>\n",
       "      <th>203</th>\n",
       "      <td>TKM</td>\n",
       "      <td>2021-08-29</td>\n",
       "      <td>4374694.0</td>\n",
       "      <td>3206282.0</td>\n",
       "      <td>Turkmenistan</td>\n",
       "      <td>6091498.0</td>\n",
       "    </tr>\n",
       "  </tbody>\n",
       "</table>\n",
       "<p>203 rows × 6 columns</p>\n",
       "</div>"
      ],
      "text/plain": [
       "    iso_code        date  people_vaccinated  people_fully_vaccinated  \\\n",
       "0        ZWE  2021-12-12          3956872.0                2976965.0   \n",
       "1        BRA  2021-12-12        165093216.0              139421689.0   \n",
       "2        MNE  2021-12-12           279793.0                 263776.0   \n",
       "3        JPN  2021-12-12        100068828.0               98049848.0   \n",
       "4        JAM  2021-12-12           695900.0                 538182.0   \n",
       "..       ...         ...                ...                      ...   \n",
       "199      BIH  2021-11-04           833233.0                 720631.0   \n",
       "200      TUV  2021-10-22             6230.0                   5884.0   \n",
       "201      MCO  2021-09-16            26672.0                  23308.0   \n",
       "202      NRU  2021-08-31             7612.0                   7251.0   \n",
       "203      TKM  2021-08-29          4374694.0                3206282.0   \n",
       "\n",
       "                   location  total_population  \n",
       "0                  Zimbabwe        15011556.0  \n",
       "1                    Brazil       214685003.0  \n",
       "2                Montenegro          627935.0  \n",
       "3                     Japan       127094381.0  \n",
       "4                   Jamaica         2990772.0  \n",
       "..                      ...               ...  \n",
       "199  Bosnia and Herzegovina         3313623.0  \n",
       "200                  Tuvalu           11909.0  \n",
       "201                  Monaco           39636.0  \n",
       "202                   Nauru           10942.0  \n",
       "203            Turkmenistan         6091498.0  \n",
       "\n",
       "[203 rows x 6 columns]"
      ]
     },
     "execution_count": 19,
     "metadata": {},
     "output_type": "execute_result"
    }
   ],
   "source": [
    "vaccinations_current"
   ]
  },
  {
   "cell_type": "markdown",
   "metadata": {},
   "source": [
    "Our final prepared datset has 203 unique locations, and both vaccination and population data for all of them. Now we can buld our visualizations."
   ]
  },
  {
   "cell_type": "markdown",
   "metadata": {},
   "source": [
    "## Building our Visualizations"
   ]
  },
  {
   "cell_type": "code",
   "execution_count": 20,
   "metadata": {},
   "outputs": [
    {
     "data": {
      "image/png": "[encoded data removed]",
      "text/plain": [
       "<Figure size 1296x648 with 1 Axes>"
      ]
     },
     "metadata": {},
     "output_type": "display_data"
    }
   ],
   "source": [
    "import seaborn as sns\n",
    "\n",
    "sns.set_theme(style=\"whitegrid\")\n",
    "sns.set(rc = {'figure.figsize':(18, 9)})\n",
    "sns.set(font_scale = 1.2)\n",
    "\n",
    "vaccinations_current['percent_vaccinated'] = (vaccinations_current['people_vaccinated'] / vaccinations_current['total_population']) * 100\n",
    "vaccinations_current = vaccinations_current.sort_values('iso_code')\n",
    "ax = sns.barplot(x='percent_vaccinated', y='location', data=vaccinations_current.iloc[0:10])\n"
   ]
  },
  {
   "cell_type": "code",
   "execution_count": 21,
   "metadata": {},
   "outputs": [
    {
     "data": {
      "image/png": "[encoded data removed]",
      "text/plain": [
       "<Figure size 1296x648 with 1 Axes>"
      ]
     },
     "metadata": {},
     "output_type": "display_data"
    }
   ],
   "source": [
    "ax = sns.barplot(x='percent_vaccinated', y='location', data=vaccinations_current.iloc[190:200])"
   ]
  },
  {
   "cell_type": "markdown",
   "metadata": {},
   "source": [
    "#### Is 0.72 percent high for the United States?\n",
    "\n",
    "A quick google search reveals that is indeed that number of people with at lease one dose in the United States: https://www.mayoclinic.org/coronavirus-covid-19/vaccine-tracker. Awesome, that gives us a little confidence that our data is accurate. Let's spot check a few other countries."
   ]
  },
  {
   "cell_type": "code",
   "execution_count": 22,
   "metadata": {},
   "outputs": [
    {
     "data": {
      "image/png": "[encoded data removed]",
      "text/plain": [
       "<Figure size 1296x648 with 1 Axes>"
      ]
     },
     "metadata": {},
     "output_type": "display_data"
    }
   ],
   "source": [
    "ax = sns.barplot(x='percent_vaccinated', y='location', data=vaccinations_current[vaccinations_current['location'].isin(['Italy', 'Spain', 'German', 'France', 'Norway', 'Sweden', 'Denmark', 'United Kingdom'])])"
   ]
  },
  {
   "cell_type": "markdown",
   "metadata": {},
   "source": [
    "Some various google searching reveals that these numbers are pretty accurate. Yay!"
   ]
  },
  {
   "cell_type": "markdown",
   "metadata": {},
   "source": [
    "## The Interactive Map"
   ]
  },
  {
   "cell_type": "code",
   "execution_count": 107,
   "metadata": {},
   "outputs": [
    {
     "data": {
      "application/vnd.plotly.v1+json": {
       "config": {
        "plotlyServerURL": "https://plot.ly"
       },
       "data": [
        {
         "hovertext": [
          "Location: Burundi<br>Population: 12009688.0<br>Percent Vaccinated: 0.018809814209994464",
          "Location: Benin<br>Population: 12244429.0<br>Percent Vaccinated: 8.881018461538712",
          "Location: Burkina Faso<br>Population: 21112310.0<br>Percent Vaccinated: 2.0972077427813445",
          "Location: Central African Republic<br>Population: 4878061.0<br>Percent Vaccinated: 7.689448737930911",
          "Location: Cameroon<br>Population: 26811322.0<br>Percent Vaccinated: 2.954751727646999",
          "Location: Congo, Dem. Rep.<br>Population: 90457018.0<br>Percent Vaccinated: 0.1801894464396339",
          "Location: Congo, Rep.<br>Population: 5573272.0<br>Percent Vaccinated: 9.871077528604381",
          "Location: Djibouti<br>Population: 997882.0<br>Percent Vaccinated: 8.303386572761108",
          "Location: Ethiopia<br>Population: 116113218.0<br>Percent Vaccinated: 7.674690404325888",
          "Location: Gabon<br>Population: 2247985.0<br>Percent Vaccinated: 8.302502018474323",
          "Location: Ghana<br>Population: 31383674.0<br>Percent Vaccinated: 8.448542385445375",
          "Location: Gambia, The<br>Population: 2440830.0<br>Percent Vaccinated: 9.83165562534056",
          "Location: Haiti<br>Population: 11516558.0<br>Percent Vaccinated: 1.0265393531643743",
          "Location: Kenya<br>Population: 54309013.0<br>Percent Vaccinated: 9.868244153139",
          "Location: Liberia<br>Population: 5108253.0<br>Percent Vaccinated: 9.918204912716735",
          "Location: Madagascar<br>Population: 27967929.0<br>Percent Vaccinated: 2.105994333724174",
          "Location: Mali<br>Population: 20453342.0<br>Percent Vaccinated: 4.019612051663733",
          "Location: Malawi<br>Population: 19321254.0<br>Percent Vaccinated: 6.307665123599121",
          "Location: Niger<br>Population: 24448702.0<br>Percent Vaccinated: 2.074641835791528",
          "Location: Nigeria<br>Population: 208200982.0<br>Percent Vaccinated: 3.5304554903588303",
          "Location: Papua New Guinea<br>Population: 9036497.0<br>Percent Vaccinated: 2.9808674755272975",
          "Location: Sudan<br>Population: 44287761.0<br>Percent Vaccinated: 6.282690606102214",
          "Location: Senegal<br>Population: 16911369.0<br>Percent Vaccinated: 7.892335623449527",
          "Location: Sierra Leone<br>Population: 8056754.0<br>Percent Vaccinated: 9.27227019715384",
          "Location: Somalia<br>Population: 16052151.0<br>Percent Vaccinated: 5.557467033545847",
          "Location: South Sudan<br>Population: 11305666.0<br>Percent Vaccinated: 1.9435652884137917",
          "Location: Syrian Arab Republic<br>Population: 17675663.0<br>Percent Vaccinated: 5.0399071310649",
          "Location: Chad<br>Population: 16590117.0<br>Percent Vaccinated: 1.1966280888796625",
          "Location: Tanzania<br>Population: 60331555.0<br>Percent Vaccinated: 2.640238594877921",
          "Location: Yemen, Rep.<br>Population: 30124227.0<br>Percent Vaccinated: 1.8478548843759541",
          "Location: Zambia<br>Population: 18567795.0<br>Percent Vaccinated: 4.344139947688996"
         ],
         "locationmode": "ISO-3",
         "locations": [
          "BDI",
          "BEN",
          "BFA",
          "CAF",
          "CMR",
          "COD",
          "COG",
          "DJI",
          "ETH",
          "GAB",
          "GHA",
          "GMB",
          "HTI",
          "KEN",
          "LBR",
          "MDG",
          "MLI",
          "MWI",
          "NER",
          "NGA",
          "PNG",
          "SDN",
          "SEN",
          "SLE",
          "SOM",
          "SSD",
          "SYR",
          "TCD",
          "TZA",
          "YEM",
          "ZMB"
         ],
         "marker": {
          "color": "rgba(129,92,143,1)",
          "opacity": 0.9,
          "size": 10,
          "sizemode": "area"
         },
         "mode": "markers",
         "name": "<10",
         "text": [
          0.018809814209994464,
          8.881018461538712,
          2.0972077427813445,
          7.689448737930911,
          2.954751727646999,
          0.1801894464396339,
          9.871077528604381,
          8.303386572761108,
          7.674690404325888,
          8.302502018474323,
          8.448542385445375,
          9.83165562534056,
          1.0265393531643743,
          9.868244153139,
          9.918204912716735,
          2.105994333724174,
          4.019612051663733,
          6.307665123599121,
          2.074641835791528,
          3.5304554903588303,
          2.9808674755272975,
          6.282690606102214,
          7.892335623449527,
          9.27227019715384,
          5.557467033545847,
          1.9435652884137917,
          5.0399071310649,
          1.1966280888796625,
          2.640238594877921,
          1.8478548843759541,
          4.344139947688996
         ],
         "type": "scattergeo"
        },
        {
         "hovertext": [
          "Location: Afghanistan<br>Population: 39317624.0<br>Percent Vaccinated: 11.184422029164326",
          "Location: Cote d'Ivoire<br>Population: 26642057.0<br>Percent Vaccinated: 11.712008573512172",
          "Location: Algeria<br>Population: 44289553.0<br>Percent Vaccinated: 15.522854791512572",
          "Location: Guinea<br>Population: 13264119.0<br>Percent Vaccinated: 12.668500636943925",
          "Location: Guinea-Bissau<br>Population: 1987677.0<br>Percent Vaccinated: 18.535405903474256",
          "Location: Equatorial Guinea<br>Population: 1417014.0<br>Percent Vaccinated: 17.496863122029847",
          "Location: Iraq<br>Population: 40624728.0<br>Percent Vaccinated: 19.399411117287972",
          "Location: Kyrgyz Republic<br>Population: 6657516.0<br>Percent Vaccinated: 17.482917051945503",
          "Location: Namibia<br>Population: 2566325.0<br>Percent Vaccinated: 14.736325290054845",
          "Location: Togo<br>Population: 8361524.0<br>Percent Vaccinated: 15.330411059036605",
          "Location: Uganda<br>Population: 46198410.0<br>Percent Vaccinated: 14.124665762306538"
         ],
         "locationmode": "ISO-3",
         "locations": [
          "AFG",
          "CIV",
          "DZA",
          "GIN",
          "GNB",
          "GNQ",
          "IRQ",
          "KGZ",
          "NAM",
          "TGO",
          "UGA"
         ],
         "marker": {
          "color": "rgba(163,137,173,1)",
          "opacity": 0.9,
          "size": 15,
          "sizemode": "area"
         },
         "mode": "markers",
         "name": "10-20",
         "text": [
          11.184422029164326,
          11.712008573512172,
          15.522854791512572,
          12.668500636943925,
          18.535405903474256,
          17.496863122029847,
          19.399411117287972,
          17.482917051945503,
          14.736325290054845,
          15.330411059036605,
          14.124665762306538
         ],
         "type": "scattergeo"
        },
        {
         "hovertext": [
          "Location: Angola<br>Population: 33194930.0<br>Percent Vaccinated: 21.098990116864233",
          "Location: Armenia<br>Population: 2992866.0<br>Percent Vaccinated: 27.926943605226562",
          "Location: Bulgaria<br>Population: 6996560.0<br>Percent Vaccinated: 25.534405479264095",
          "Location: Bosnia and Herzegovina<br>Population: 3313623.0<br>Percent Vaccinated: 25.14567891398629",
          "Location: Egypt, Arab Rep.<br>Population: 103357747.0<br>Percent Vaccinated: 27.070266924452213",
          "Location: Jamaica<br>Population: 2990772.0<br>Percent Vaccinated: 23.268239772205973",
          "Location: Lebanon<br>Population: 6893696.0<br>Percent Vaccinated: 29.92567412314091",
          "Location: Libya<br>Population: 6939999.0<br>Percent Vaccinated: 25.350695295489235",
          "Location: St. Lucia<br>Population: 185465.0<br>Percent Vaccinated: 29.689159679723936",
          "Location: Lesotho<br>Population: 2163674.0<br>Percent Vaccinated: 28.96318946384714",
          "Location: Mozambique<br>Population: 31567989.0<br>Percent Vaccinated: 21.54636457837083",
          "Location: Mauritania<br>Population: 4696156.0<br>Percent Vaccinated: 23.371902466613122",
          "Location: Solomon Islands<br>Population: 693746.0<br>Percent Vaccinated: 23.28244054740496",
          "Location: Eswatini<br>Population: 1171765.0<br>Percent Vaccinated: 25.8306913075574",
          "Location: St. Vincent and the Grenadines<br>Population: 112056.0<br>Percent Vaccinated: 28.550903119868636",
          "Location: Zimbabwe<br>Population: 15011556.0<br>Percent Vaccinated: 26.358839816472056"
         ],
         "locationmode": "ISO-3",
         "locations": [
          "AGO",
          "ARM",
          "BGR",
          "BIH",
          "EGY",
          "JAM",
          "LBN",
          "LBY",
          "LCA",
          "LSO",
          "MOZ",
          "MRT",
          "SLB",
          "SWZ",
          "VCT",
          "ZWE"
         ],
         "marker": {
          "color": "rgba(202,183,201,1)",
          "opacity": 0.9,
          "size": 20,
          "sizemode": "area"
         },
         "mode": "markers",
         "name": "20-30",
         "text": [
          21.098990116864233,
          27.926943605226562,
          25.534405479264095,
          25.14567891398629,
          27.070266924452213,
          23.268239772205973,
          29.92567412314091,
          25.350695295489235,
          29.689159679723936,
          28.96318946384714,
          21.54636457837083,
          23.371902466613122,
          23.28244054740496,
          25.8306913075574,
          28.550903119868636,
          26.358839816472056
         ],
         "type": "scattergeo"
        },
        {
         "hovertext": [
          "Location: Albania<br>Population: 2866120.0<br>Percent Vaccinated: 38.11131425062454",
          "Location: Bahamas, The<br>Population: 397180.0<br>Percent Vaccinated: 38.8073417594038",
          "Location: Comoros<br>Population: 878290.0<br>Percent Vaccinated: 32.10169761696023",
          "Location: Dominica<br>Population: 72710.0<br>Percent Vaccinated: 39.97249346719846",
          "Location: Georgia<br>Population: 3751140.0<br>Percent Vaccinated: 33.703647424516284",
          "Location: Grenada<br>Population: 113644.0<br>Percent Vaccinated: 35.691281545880116",
          "Location: Guatemala<br>Population: 17026916.0<br>Percent Vaccinated: 36.66045571611441",
          "Location: Moldova<br>Population: 2643998.0<br>Percent Vaccinated: 35.88815120132466",
          "Location: Myanmar<br>Population: 54953891.0<br>Percent Vaccinated: 30.66056232487705",
          "Location: Nepal<br>Population: 29428176.0<br>Percent Vaccinated: 35.44786126058238",
          "Location: Pakistan<br>Population: 223101254.0<br>Percent Vaccinated: 38.00209522802593",
          "Location: Philippines<br>Population: 110676895.0<br>Percent Vaccinated: 36.609237185412546",
          "Location: Sao Tome and Principe<br>Population: 221352.0<br>Percent Vaccinated: 38.56120568144855",
          "Location: Tajikistan<br>Population: 9633018.0<br>Percent Vaccinated: 32.36998000003737",
          "Location: Ukraine<br>Population: 44576039.0<br>Percent Vaccinated: 31.701881362765317",
          "Location: Vanuatu<br>Population: 310221.0<br>Percent Vaccinated: 30.991132128385896",
          "Location: South Africa<br>Population: 59901776.0<br>Percent Vaccinated: 30.62350605431131"
         ],
         "locationmode": "ISO-3",
         "locations": [
          "ALB",
          "BHS",
          "COM",
          "DMA",
          "GEO",
          "GRD",
          "GTM",
          "MDA",
          "MMR",
          "NPL",
          "PAK",
          "PHL",
          "STP",
          "TJK",
          "UKR",
          "VUT",
          "ZAF"
         ],
         "marker": {
          "color": "rgba(224,224,224,1)",
          "opacity": 0.9,
          "size": 25,
          "sizemode": "area"
         },
         "mode": "markers",
         "name": "30-40",
         "text": [
          38.11131425062454,
          38.8073417594038,
          32.10169761696023,
          39.97249346719846,
          33.703647424516284,
          35.691281545880116,
          36.66045571611441,
          35.88815120132466,
          30.66056232487705,
          35.44786126058238,
          38.00209522802593,
          36.609237185412546,
          38.56120568144855,
          32.36998000003737,
          31.701881362765317,
          30.991132128385896,
          30.62350605431131
         ],
         "type": "scattergeo"
        },
        {
         "hovertext": [
          "Location: Belarus<br>Population: 9492849.0<br>Percent Vaccinated: 40.1606619888297",
          "Location: Bolivia<br>Population: 11789759.0<br>Percent Vaccinated: 44.052647725878025",
          "Location: Botswana<br>Population: 2375141.0<br>Percent Vaccinated: 40.213823095134146",
          "Location: Honduras<br>Population: 10003654.0<br>Percent Vaccinated: 49.25285300751106",
          "Location: Jordan<br>Population: 10305171.0<br>Percent Vaccinated: 41.05022614374861",
          "Location: Kazakhstan<br>Population: 18941984.0<br>Percent Vaccinated: 46.73232223192671",
          "Location: Kiribati<br>Population: 120640.0<br>Percent Vaccinated: 49.31366047745358",
          "Location: North Macedonia<br>Population: 2104213.0<br>Percent Vaccinated: 42.100680872136046",
          "Location: Montenegro<br>Population: 627935.0<br>Percent Vaccinated: 44.55763733507449",
          "Location: Paraguay<br>Population: 7203855.0<br>Percent Vaccinated: 47.3992188904413",
          "Location: West Bank and Gaza<br>Population: 4851301.0<br>Percent Vaccinated: 40.94839714130292",
          "Location: Romania<br>Population: 19478984.0<br>Percent Vaccinated: 40.19808733350774",
          "Location: Russian Federation<br>Population: 145545120.0<br>Percent Vaccinated: 48.104299889958526",
          "Location: Rwanda<br>Population: 13081731.0<br>Percent Vaccinated: 48.83326984785118",
          "Location: Serbia<br>Population: 6977306.0<br>Percent Vaccinated: 47.08001913632568",
          "Location: Suriname<br>Population: 592500.0<br>Percent Vaccinated: 43.83324894514768",
          "Location: Slovak Republic<br>Population: 5513415.0<br>Percent Vaccinated: 48.570368818599725",
          "Location: Timor-Leste<br>Population: 1331626.0<br>Percent Vaccinated: 48.98477500439313",
          "Location: Trinidad and Tobago<br>Population: 1413485.0<br>Percent Vaccinated: 49.442406534204466"
         ],
         "locationmode": "ISO-3",
         "locations": [
          "BLR",
          "BOL",
          "BWA",
          "HND",
          "JOR",
          "KAZ",
          "KIR",
          "MKD",
          "MNE",
          "PRY",
          "PSE",
          "ROU",
          "RUS",
          "RWA",
          "SRB",
          "SUR",
          "SVK",
          "TLS",
          "TTO"
         ],
         "marker": {
          "color": "rgba(184,207,181,1)",
          "opacity": 0.9,
          "size": 30,
          "sizemode": "area"
         },
         "mode": "markers",
         "name": "40-50",
         "text": [
          40.1606619888297,
          44.052647725878025,
          40.213823095134146,
          49.25285300751106,
          41.05022614374861,
          46.73232223192671,
          49.31366047745358,
          42.100680872136046,
          44.55763733507449,
          47.3992188904413,
          40.94839714130292,
          40.19808733350774,
          48.104299889958526,
          48.83326984785118,
          47.08001913632568,
          43.83324894514768,
          48.570368818599725,
          48.98477500439313,
          49.442406534204466
         ],
         "type": "scattergeo"
        },
        {
         "hovertext": [
          "Location: Azerbaijan<br>Population: 10211217.0<br>Percent Vaccinated: 50.14654962283144",
          "Location: Bangladesh<br>Population: 166336276.0<br>Percent Vaccinated: 51.6999995839753",
          "Location: Belize<br>Population: 401597.0<br>Percent Vaccinated: 56.902068491547496",
          "Location: Barbados<br>Population: 290244.0<br>Percent Vaccinated: 53.119788867297856",
          "Location: Cabo Verde<br>Population: 561547.0<br>Percent Vaccinated: 53.382886917746866",
          "Location: Cyprus<br>Population: 1219434.0<br>Percent Vaccinated: 51.77984212347696",
          "Location: Guyana<br>Population: 794424.0<br>Percent Vaccinated: 50.86981259377864",
          "Location: Croatia<br>Population: 4087672.0<br>Percent Vaccinated: 54.474723020829465",
          "Location: Indonesia<br>Population: 276258857.0<br>Percent Vaccinated: 53.16606337801506",
          "Location: India<br>Population: 1393804428.0<br>Percent Vaccinated: 58.59561309988893",
          "Location: St. Kitts and Nevis<br>Population: 53723.0<br>Percent Vaccinated: 50.924185172086446",
          "Location: Lao PDR<br>Population: 7348311.0<br>Percent Vaccinated: 50.96055406473678",
          "Location: Poland<br>Population: 38330310.0<br>Percent Vaccinated: 55.23427021592051",
          "Location: French Polynesia<br>Population: 283713.0<br>Percent Vaccinated: 58.17181447448654",
          "Location: Slovenia<br>Population: 2121127.0<br>Percent Vaccinated: 58.38004985085759",
          "Location: Tunisia<br>Population: 11936804.0<br>Percent Vaccinated: 52.42283445384543",
          "Location: Tuvalu<br>Population: 11909.0<br>Percent Vaccinated: 52.31337643798808",
          "Location: Uzbekistan<br>Population: 34574370.0<br>Percent Vaccinated: 52.78368340478799",
          "Location: Venezuela, RB<br>Population: 28720302.0<br>Percent Vaccinated: 57.157073069774825",
          "Location: British Virgin Islands<br>Population: 30539.0<br>Percent Vaccinated: 59.88408264841678"
         ],
         "locationmode": "ISO-3",
         "locations": [
          "AZE",
          "BGD",
          "BLZ",
          "BRB",
          "CPV",
          "CYP",
          "GUY",
          "HRV",
          "IDN",
          "IND",
          "KNA",
          "LAO",
          "POL",
          "PYF",
          "SVN",
          "TUN",
          "TUV",
          "UZB",
          "VEN",
          "VGB"
         ],
         "marker": {
          "color": "rgba(161,203,151,1)",
          "opacity": 0.9,
          "size": 35,
          "sizemode": "area"
         },
         "mode": "markers",
         "name": "50-60",
         "text": [
          50.14654962283144,
          51.6999995839753,
          56.902068491547496,
          53.119788867297856,
          53.382886917746866,
          51.77984212347696,
          50.86981259377864,
          54.474723020829465,
          53.16606337801506,
          58.59561309988893,
          50.924185172086446,
          50.96055406473678,
          55.23427021592051,
          58.17181447448654,
          58.38004985085759,
          52.42283445384543,
          52.31337643798808,
          52.78368340478799,
          57.157073069774825,
          59.88408264841678
         ],
         "type": "scattergeo"
        },
        {
         "hovertext": [
          "Location: Antigua and Barbuda<br>Population: 98907.0<br>Percent Vaccinated: 62.098739219671",
          "Location: Bahrain<br>Population: 1718598.0<br>Percent Vaccinated: 69.41582615597132",
          "Location: Switzerland<br>Population: 8723264.0<br>Percent Vaccinated: 67.62435482865129",
          "Location: Curacao<br>Population: 156564.0<br>Percent Vaccinated: 66.07393781456784",
          "Location: Czech Republic<br>Population: 10805884.0<br>Percent Vaccinated: 62.36135794165475",
          "Location: Dominican Republic<br>Population: 10956383.0<br>Percent Vaccinated: 63.07652808413141",
          "Location: Estonia<br>Population: 1344367.0<br>Percent Vaccinated: 62.03492052393431",
          "Location: Greece<br>Population: 10822704.0<br>Percent Vaccinated: 67.04096314562423",
          "Location: Hong Kong SAR, China<br>Population: 7556618.0<br>Percent Vaccinated: 63.652139091853",
          "Location: Hungary<br>Population: 9847260.0<br>Percent Vaccinated: 62.868473057479946",
          "Location: Iran, Islamic Rep.<br>Population: 84832882.0<br>Percent Vaccinated: 68.48072071864775",
          "Location: Israel<br>Population: 9309069.0<br>Percent Vaccinated: 68.84216885705756",
          "Location: Liechtenstein<br>Population: 38518.0<br>Percent Vaccinated: 67.16600031154265",
          "Location: Lithuania<br>Population: 2822647.0<br>Percent Vaccinated: 66.95892189140193",
          "Location: Latvia<br>Population: 1920563.0<br>Percent Vaccinated: 67.2939653632815",
          "Location: Morocco<br>Population: 37279663.0<br>Percent Vaccinated: 65.84710543118375",
          "Location: Monaco<br>Population: 39636.0<br>Percent Vaccinated: 67.29236048037139",
          "Location: Mexico<br>Population: 130222080.0<br>Percent Vaccinated: 61.73184762522608",
          "Location: Mongolia<br>Population: 3311074.0<br>Percent Vaccinated: 68.34111831991675",
          "Location: New Caledonia<br>Population: 274679.0<br>Percent Vaccinated: 65.93441799336681",
          "Location: Nicaragua<br>Population: 6690799.0<br>Percent Vaccinated: 65.79815056467845",
          "Location: Nauru<br>Population: 10942.0<br>Percent Vaccinated: 69.5668067994882",
          "Location: Oman<br>Population: 5157688.0<br>Percent Vaccinated: 64.18397157796284",
          "Location: Panama<br>Population: 4357915.0<br>Percent Vaccinated: 69.19967461503953",
          "Location: Peru<br>Population: 33301564.0<br>Percent Vaccinated: 69.48872131050662",
          "Location: El Salvador<br>Population: 6551063.0<br>Percent Vaccinated: 67.9894392711534",
          "Location: Sint Maarten (Dutch part)<br>Population: 41220.0<br>Percent Vaccinated: 65.3444929645803",
          "Location: Tonga<br>Population: 106753.0<br>Percent Vaccinated: 68.65942877483536",
          "Location: Turkey<br>Population: 85182457.0<br>Percent Vaccinated: 66.34928011057488",
          "Location: Samoa<br>Population: 200394.0<br>Percent Vaccinated: 69.79500384243042"
         ],
         "locationmode": "ISO-3",
         "locations": [
          "ATG",
          "BHR",
          "CHE",
          "CUW",
          "CZE",
          "DOM",
          "EST",
          "GRC",
          "HKG",
          "HUN",
          "IRN",
          "ISR",
          "LIE",
          "LTU",
          "LVA",
          "MAR",
          "MCO",
          "MEX",
          "MNG",
          "NCL",
          "NIC",
          "NRU",
          "OMN",
          "PAN",
          "PER",
          "SLV",
          "SXM",
          "TON",
          "TUR",
          "WSM"
         ],
         "marker": {
          "color": "rgba(161,203,151,1)",
          "opacity": 0.9,
          "size": 40,
          "sizemode": "area"
         },
         "mode": "markers",
         "name": "60-70",
         "text": [
          62.098739219671,
          69.41582615597132,
          67.62435482865129,
          66.07393781456784,
          62.36135794165475,
          63.07652808413141,
          62.03492052393431,
          67.04096314562423,
          63.652139091853,
          62.868473057479946,
          68.48072071864775,
          68.84216885705756,
          67.16600031154265,
          66.95892189140193,
          67.2939653632815,
          65.84710543118375,
          67.29236048037139,
          61.73184762522608,
          68.34111831991675,
          65.93441799336681,
          65.79815056467845,
          69.5668067994882,
          64.18397157796284,
          69.19967461503953,
          69.48872131050662,
          67.9894392711534,
          65.3444929645803,
          68.65942877483536,
          66.34928011057488,
          69.79500384243042
         ],
         "type": "scattergeo"
        },
        {
         "hovertext": [
          "Location: Aruba<br>Population: 107833.0<br>Percent Vaccinated: 77.8388804911298",
          "Location: Andorra<br>Population: 78037.0<br>Percent Vaccinated: 71.88256852518677",
          "Location: Australia<br>Population: 25943911.0<br>Percent Vaccinated: 77.89424269918287",
          "Location: Austria<br>Population: 9006377.0<br>Percent Vaccinated: 71.88481006291431",
          "Location: Belgium<br>Population: 11671556.0<br>Percent Vaccinated: 75.93032154410261",
          "Location: Bermuda<br>Population: 64542.0<br>Percent Vaccinated: 71.35508661026928",
          "Location: Brazil<br>Population: 214685003.0<br>Percent Vaccinated: 76.9002090006259",
          "Location: Bhutan<br>Population: 779328.0<br>Percent Vaccinated: 75.63978196600148",
          "Location: Colombia<br>Population: 51391712.0<br>Percent Vaccinated: 76.64031507648549",
          "Location: Costa Rica<br>Population: 5145055.0<br>Percent Vaccinated: 75.89172516134424",
          "Location: Germany<br>Population: 84072930.0<br>Percent Vaccinated: 71.84050442871445",
          "Location: Denmark<br>Population: 5889718.0<br>Percent Vaccinated: 78.75731911103384",
          "Location: Ecuador<br>Population: 17819490.0<br>Percent Vaccinated: 77.42217650449031",
          "Location: Finland<br>Population: 5586026.0<br>Percent Vaccinated: 77.33381477279197",
          "Location: Fiji<br>Population: 905408.0<br>Percent Vaccinated: 72.43772973068495",
          "Location: France<br>Population: 68065497.0<br>Percent Vaccinated: 76.7242807321307",
          "Location: United Kingdom<br>Population: 67887445.0<br>Percent Vaccinated: 75.49924732032558",
          "Location: Greenland<br>Population: 56930.0<br>Percent Vaccinated: 70.87827156156685",
          "Location: Isle of Man<br>Population: 85882.0<br>Percent Vaccinated: 79.77457441605924",
          "Location: Ireland<br>Population: 5044671.0<br>Percent Vaccinated: 76.74218992675638",
          "Location: Iceland<br>Population: 370089.0<br>Percent Vaccinated: 77.45434206366578",
          "Location: Italy<br>Population: 60149563.0<br>Percent Vaccinated: 79.18434586133236",
          "Location: Japan<br>Population: 127094381.0<br>Percent Vaccinated: 78.7358396277173",
          "Location: Kuwait<br>Population: 4313268.0<br>Percent Vaccinated: 76.83600926258234",
          "Location: Sri Lanka<br>Population: 22138190.0<br>Percent Vaccinated: 72.07447853686321",
          "Location: Luxembourg<br>Population: 638597.0<br>Percent Vaccinated: 70.46259221386883",
          "Location: Macao SAR, China<br>Population: 655835.0<br>Percent Vaccinated: 74.45683746674088",
          "Location: Maldives<br>Population: 545947.0<br>Percent Vaccinated: 72.54660250903477",
          "Location: Mauritius<br>Population: 1278397.0<br>Percent Vaccinated: 71.6932220585624",
          "Location: Malaysia<br>Population: 32689657.0<br>Percent Vaccinated: 79.12476414175896",
          "Location: Netherlands<br>Population: 17615550.0<br>Percent Vaccinated: 75.35797633340997",
          "Location: Norway<br>Population: 5433269.0<br>Percent Vaccinated: 78.3316084662843",
          "Location: New Zealand<br>Population: 5135143.0<br>Percent Vaccinated: 76.91976640183145",
          "Location: Saudi Arabia<br>Population: 35162005.0<br>Percent Vaccinated: 70.49102290952976",
          "Location: San Marino<br>Population: 34277.0<br>Percent Vaccinated: 72.70764652682557",
          "Location: Sweden<br>Population: 10456976.0<br>Percent Vaccinated: 73.28020070047019",
          "Location: Turks and Caicos Islands<br>Population: 39105.0<br>Percent Vaccinated: 74.69633039253293",
          "Location: Thailand<br>Population: 70497977.0<br>Percent Vaccinated: 70.7250039245807",
          "Location: Turkmenistan<br>Population: 6091498.0<br>Percent Vaccinated: 71.81639064808031",
          "Location: Uruguay<br>Population: 3508464.0<br>Percent Vaccinated: 78.53445268356751",
          "Location: United States<br>Population: 332778964.0<br>Percent Vaccinated: 71.82189737209471",
          "Location: Vietnam<br>Population: 98311968.0<br>Percent Vaccinated: 76.1170410096968"
         ],
         "locationmode": "ISO-3",
         "locations": [
          "ABW",
          "AND",
          "AUS",
          "AUT",
          "BEL",
          "BMU",
          "BRA",
          "BTN",
          "COL",
          "CRI",
          "DEU",
          "DNK",
          "ECU",
          "FIN",
          "FJI",
          "FRA",
          "GBR",
          "GRL",
          "IMN",
          "IRL",
          "ISL",
          "ITA",
          "JPN",
          "KWT",
          "LKA",
          "LUX",
          "MAC",
          "MDV",
          "MUS",
          "MYS",
          "NLD",
          "NOR",
          "NZL",
          "SAU",
          "SMR",
          "SWE",
          "TCA",
          "THA",
          "TKM",
          "URY",
          "USA",
          "VNM"
         ],
         "marker": {
          "color": "rgba(77,162,91,1)",
          "opacity": 0.9,
          "size": 45,
          "sizemode": "area"
         },
         "mode": "markers",
         "name": "70-80",
         "text": [
          77.8388804911298,
          71.88256852518677,
          77.89424269918287,
          71.88481006291431,
          75.93032154410261,
          71.35508661026928,
          76.9002090006259,
          75.63978196600148,
          76.64031507648549,
          75.89172516134424,
          71.84050442871445,
          78.75731911103384,
          77.42217650449031,
          77.33381477279197,
          72.43772973068495,
          76.7242807321307,
          75.49924732032558,
          70.87827156156685,
          79.77457441605924,
          76.74218992675638,
          77.45434206366578,
          79.18434586133236,
          78.7358396277173,
          76.83600926258234,
          72.07447853686321,
          70.46259221386883,
          74.45683746674088,
          72.54660250903477,
          71.6932220585624,
          79.12476414175896,
          75.35797633340997,
          78.3316084662843,
          76.91976640183145,
          70.49102290952976,
          72.70764652682557,
          73.28020070047019,
          74.69633039253293,
          70.7250039245807,
          71.81639064808031,
          78.53445268356751,
          71.82189737209471,
          76.1170410096968
         ],
         "type": "scattergeo"
        },
        {
         "hovertext": [
          "Location: Argentina<br>Population: 45830530.0<br>Percent Vaccinated: 81.41616079936234",
          "Location: Canada<br>Population: 38385290.0<br>Percent Vaccinated: 81.10486595255631",
          "Location: Chile<br>Population: 19307371.0<br>Percent Vaccinated: 87.55034023016391",
          "Location: China<br>Population: 1416133120.0<br>Percent Vaccinated: 86.5031671598783",
          "Location: Cuba<br>Population: 11439882.0<br>Percent Vaccinated: 89.31215374424316",
          "Location: Cayman Islands<br>Population: 66377.0<br>Percent Vaccinated: 87.59510071259623",
          "Location: Spain<br>Population: 47825082.0<br>Percent Vaccinated: 80.47731522969474",
          "Location: Faroe Islands<br>Population: 49353.0<br>Percent Vaccinated: 81.46414604988553",
          "Location: Cambodia<br>Population: 16886160.0<br>Percent Vaccinated: 84.05980992718297",
          "Location: Korea, Rep.<br>Population: 52298384.0<br>Percent Vaccinated: 82.14112313680667",
          "Location: Malta<br>Population: 530537.0<br>Percent Vaccinated: 82.36334129382116",
          "Location: Portugal<br>Population: 10408619.0<br>Percent Vaccinated: 86.98465185439106",
          "Location: Qatar<br>Population: 2909870.0<br>Percent Vaccinated: 81.11386419324575",
          "Location: Singapore<br>Population: 5742665.0<br>Percent Vaccinated: 82.62073444994616",
          "Location: Seychelles<br>Population: 99446.0<br>Percent Vaccinated: 82.39345976710979"
         ],
         "locationmode": "ISO-3",
         "locations": [
          "ARG",
          "CAN",
          "CHL",
          "CHN",
          "CUB",
          "CYM",
          "ESP",
          "FRO",
          "KHM",
          "KOR",
          "MLT",
          "PRT",
          "QAT",
          "SGP",
          "SYC"
         ],
         "marker": {
          "color": "rgba(19,108,53,1)",
          "opacity": 0.9,
          "size": 50,
          "sizemode": "area"
         },
         "mode": "markers",
         "name": "80-90",
         "text": [
          81.41616079936234,
          81.10486595255631,
          87.55034023016391,
          86.5031671598783,
          89.31215374424316,
          87.59510071259623,
          80.47731522969474,
          81.46414604988553,
          84.05980992718297,
          82.14112313680667,
          82.36334129382116,
          86.98465185439106,
          81.11386419324575,
          82.62073444994616,
          82.39345976710979
         ],
         "type": "scattergeo"
        },
        {
         "hovertext": [
          "Location: United Arab Emirates<br>Population: 9989304.0<br>Percent Vaccinated: 99.01131249984984",
          "Location: Brunei Darussalam<br>Population: 441857.0<br>Percent Vaccinated: 91.59230248700372"
         ],
         "locationmode": "ISO-3",
         "locations": [
          "ARE",
          "BRN"
         ],
         "marker": {
          "color": "rgba(8,93,23,1)",
          "opacity": 0.9,
          "size": [
           21.20863431552102,
           20.504649684456655
          ],
          "sizemode": "area"
         },
         "mode": "markers",
         "name": ">=90",
         "text": [
          99.01131249984984,
          91.59230248700372
         ],
         "type": "scattergeo"
        }
       ],
       "layout": {
        "geo": {
         "bgcolor": "rgba(0,0,0,0.9)",
         "landcolor": "rgb(40,40,43,1)",
         "oceancolor": "rgba(51,153,255,0.9)",
         "projection": {
          "type": "orthographic"
         },
         "resolution": 50,
         "scope": "world",
         "showcoastlines": true,
         "showcountries": true,
         "showframe": true,
         "showland": true,
         "showocean": true
        },
        "height": 1000,
        "legend": {
         "font": {
          "color": "white"
         }
        },
        "paper_bgcolor": "rgba(0,0,0,0.9)",
        "template": {
         "data": {
          "bar": [
           {
            "error_x": {
             "color": "#2a3f5f"
            },
            "error_y": {
             "color": "#2a3f5f"
            },
            "marker": {
             "line": {
              "color": "#E5ECF6",
              "width": 0.5
             },
             "pattern": {
              "fillmode": "overlay",
              "size": 10,
              "solidity": 0.2
             }
            },
            "type": "bar"
           }
          ],
          "barpolar": [
           {
            "marker": {
             "line": {
              "color": "#E5ECF6",
              "width": 0.5
             },
             "pattern": {
              "fillmode": "overlay",
              "size": 10,
              "solidity": 0.2
             }
            },
            "type": "barpolar"
           }
          ],
          "carpet": [
           {
            "aaxis": {
             "endlinecolor": "#2a3f5f",
             "gridcolor": "white",
             "linecolor": "white",
             "minorgridcolor": "white",
             "startlinecolor": "#2a3f5f"
            },
            "baxis": {
             "endlinecolor": "#2a3f5f",
             "gridcolor": "white",
             "linecolor": "white",
             "minorgridcolor": "white",
             "startlinecolor": "#2a3f5f"
            },
            "type": "carpet"
           }
          ],
          "choropleth": [
           {
            "colorbar": {
             "outlinewidth": 0,
             "ticks": ""
            },
            "type": "choropleth"
           }
          ],
          "contour": [
           {
            "colorbar": {
             "outlinewidth": 0,
             "ticks": ""
            },
            "colorscale": [
             [
              0,
              "#0d0887"
             ],
             [
              0.1111111111111111,
              "#46039f"
             ],
             [
              0.2222222222222222,
              "#7201a8"
             ],
             [
              0.3333333333333333,
              "#9c179e"
             ],
             [
              0.4444444444444444,
              "#bd3786"
             ],
             [
              0.5555555555555556,
              "#d8576b"
             ],
             [
              0.6666666666666666,
              "#ed7953"
             ],
             [
              0.7777777777777778,
              "#fb9f3a"
             ],
             [
              0.8888888888888888,
              "#fdca26"
             ],
             [
              1,
              "#f0f921"
             ]
            ],
            "type": "contour"
           }
          ],
          "contourcarpet": [
           {
            "colorbar": {
             "outlinewidth": 0,
             "ticks": ""
            },
            "type": "contourcarpet"
           }
          ],
          "heatmap": [
           {
            "colorbar": {
             "outlinewidth": 0,
             "ticks": ""
            },
            "colorscale": [
             [
              0,
              "#0d0887"
             ],
             [
              0.1111111111111111,
              "#46039f"
             ],
             [
              0.2222222222222222,
              "#7201a8"
             ],
             [
              0.3333333333333333,
              "#9c179e"
             ],
             [
              0.4444444444444444,
              "#bd3786"
             ],
             [
              0.5555555555555556,
              "#d8576b"
             ],
             [
              0.6666666666666666,
              "#ed7953"
             ],
             [
              0.7777777777777778,
              "#fb9f3a"
             ],
             [
              0.8888888888888888,
              "#fdca26"
             ],
             [
              1,
              "#f0f921"
             ]
            ],
            "type": "heatmap"
           }
          ],
          "heatmapgl": [
           {
            "colorbar": {
             "outlinewidth": 0,
             "ticks": ""
            },
            "colorscale": [
             [
              0,
              "#0d0887"
             ],
             [
              0.1111111111111111,
              "#46039f"
             ],
             [
              0.2222222222222222,
              "#7201a8"
             ],
             [
              0.3333333333333333,
              "#9c179e"
             ],
             [
              0.4444444444444444,
              "#bd3786"
             ],
             [
              0.5555555555555556,
              "#d8576b"
             ],
             [
              0.6666666666666666,
              "#ed7953"
             ],
             [
              0.7777777777777778,
              "#fb9f3a"
             ],
             [
              0.8888888888888888,
              "#fdca26"
             ],
             [
              1,
              "#f0f921"
             ]
            ],
            "type": "heatmapgl"
           }
          ],
          "histogram": [
           {
            "marker": {
             "pattern": {
              "fillmode": "overlay",
              "size": 10,
              "solidity": 0.2
             }
            },
            "type": "histogram"
           }
          ],
          "histogram2d": [
           {
            "colorbar": {
             "outlinewidth": 0,
             "ticks": ""
            },
            "colorscale": [
             [
              0,
              "#0d0887"
             ],
             [
              0.1111111111111111,
              "#46039f"
             ],
             [
              0.2222222222222222,
              "#7201a8"
             ],
             [
              0.3333333333333333,
              "#9c179e"
             ],
             [
              0.4444444444444444,
              "#bd3786"
             ],
             [
              0.5555555555555556,
              "#d8576b"
             ],
             [
              0.6666666666666666,
              "#ed7953"
             ],
             [
              0.7777777777777778,
              "#fb9f3a"
             ],
             [
              0.8888888888888888,
              "#fdca26"
             ],
             [
              1,
              "#f0f921"
             ]
            ],
            "type": "histogram2d"
           }
          ],
          "histogram2dcontour": [
           {
            "colorbar": {
             "outlinewidth": 0,
             "ticks": ""
            },
            "colorscale": [
             [
              0,
              "#0d0887"
             ],
             [
              0.1111111111111111,
              "#46039f"
             ],
             [
              0.2222222222222222,
              "#7201a8"
             ],
             [
              0.3333333333333333,
              "#9c179e"
             ],
             [
              0.4444444444444444,
              "#bd3786"
             ],
             [
              0.5555555555555556,
              "#d8576b"
             ],
             [
              0.6666666666666666,
              "#ed7953"
             ],
             [
              0.7777777777777778,
              "#fb9f3a"
             ],
             [
              0.8888888888888888,
              "#fdca26"
             ],
             [
              1,
              "#f0f921"
             ]
            ],
            "type": "histogram2dcontour"
           }
          ],
          "mesh3d": [
           {
            "colorbar": {
             "outlinewidth": 0,
             "ticks": ""
            },
            "type": "mesh3d"
           }
          ],
          "parcoords": [
           {
            "line": {
             "colorbar": {
              "outlinewidth": 0,
              "ticks": ""
             }
            },
            "type": "parcoords"
           }
          ],
          "pie": [
           {
            "automargin": true,
            "type": "pie"
           }
          ],
          "scatter": [
           {
            "marker": {
             "colorbar": {
              "outlinewidth": 0,
              "ticks": ""
             }
            },
            "type": "scatter"
           }
          ],
          "scatter3d": [
           {
            "line": {
             "colorbar": {
              "outlinewidth": 0,
              "ticks": ""
             }
            },
            "marker": {
             "colorbar": {
              "outlinewidth": 0,
              "ticks": ""
             }
            },
            "type": "scatter3d"
           }
          ],
          "scattercarpet": [
           {
            "marker": {
             "colorbar": {
              "outlinewidth": 0,
              "ticks": ""
             }
            },
            "type": "scattercarpet"
           }
          ],
          "scattergeo": [
           {
            "marker": {
             "colorbar": {
              "outlinewidth": 0,
              "ticks": ""
             }
            },
            "type": "scattergeo"
           }
          ],
          "scattergl": [
           {
            "marker": {
             "colorbar": {
              "outlinewidth": 0,
              "ticks": ""
             }
            },
            "type": "scattergl"
           }
          ],
          "scattermapbox": [
           {
            "marker": {
             "colorbar": {
              "outlinewidth": 0,
              "ticks": ""
             }
            },
            "type": "scattermapbox"
           }
          ],
          "scatterpolar": [
           {
            "marker": {
             "colorbar": {
              "outlinewidth": 0,
              "ticks": ""
             }
            },
            "type": "scatterpolar"
           }
          ],
          "scatterpolargl": [
           {
            "marker": {
             "colorbar": {
              "outlinewidth": 0,
              "ticks": ""
             }
            },
            "type": "scatterpolargl"
           }
          ],
          "scatterternary": [
           {
            "marker": {
             "colorbar": {
              "outlinewidth": 0,
              "ticks": ""
             }
            },
            "type": "scatterternary"
           }
          ],
          "surface": [
           {
            "colorbar": {
             "outlinewidth": 0,
             "ticks": ""
            },
            "colorscale": [
             [
              0,
              "#0d0887"
             ],
             [
              0.1111111111111111,
              "#46039f"
             ],
             [
              0.2222222222222222,
              "#7201a8"
             ],
             [
              0.3333333333333333,
              "#9c179e"
             ],
             [
              0.4444444444444444,
              "#bd3786"
             ],
             [
              0.5555555555555556,
              "#d8576b"
             ],
             [
              0.6666666666666666,
              "#ed7953"
             ],
             [
              0.7777777777777778,
              "#fb9f3a"
             ],
             [
              0.8888888888888888,
              "#fdca26"
             ],
             [
              1,
              "#f0f921"
             ]
            ],
            "type": "surface"
           }
          ],
          "table": [
           {
            "cells": {
             "fill": {
              "color": "#EBF0F8"
             },
             "line": {
              "color": "white"
             }
            },
            "header": {
             "fill": {
              "color": "#C8D4E3"
             },
             "line": {
              "color": "white"
             }
            },
            "type": "table"
           }
          ]
         },
         "layout": {
          "annotationdefaults": {
           "arrowcolor": "#2a3f5f",
           "arrowhead": 0,
           "arrowwidth": 1
          },
          "autotypenumbers": "strict",
          "coloraxis": {
           "colorbar": {
            "outlinewidth": 0,
            "ticks": ""
           }
          },
          "colorscale": {
           "diverging": [
            [
             0,
             "#8e0152"
            ],
            [
             0.1,
             "#c51b7d"
            ],
            [
             0.2,
             "#de77ae"
            ],
            [
             0.3,
             "#f1b6da"
            ],
            [
             0.4,
             "#fde0ef"
            ],
            [
             0.5,
             "#f7f7f7"
            ],
            [
             0.6,
             "#e6f5d0"
            ],
            [
             0.7,
             "#b8e186"
            ],
            [
             0.8,
             "#7fbc41"
            ],
            [
             0.9,
             "#4d9221"
            ],
            [
             1,
             "#276419"
            ]
           ],
           "sequential": [
            [
             0,
             "#0d0887"
            ],
            [
             0.1111111111111111,
             "#46039f"
            ],
            [
             0.2222222222222222,
             "#7201a8"
            ],
            [
             0.3333333333333333,
             "#9c179e"
            ],
            [
             0.4444444444444444,
             "#bd3786"
            ],
            [
             0.5555555555555556,
             "#d8576b"
            ],
            [
             0.6666666666666666,
             "#ed7953"
            ],
            [
             0.7777777777777778,
             "#fb9f3a"
            ],
            [
             0.8888888888888888,
             "#fdca26"
            ],
            [
             1,
             "#f0f921"
            ]
           ],
           "sequentialminus": [
            [
             0,
             "#0d0887"
            ],
            [
             0.1111111111111111,
             "#46039f"
            ],
            [
             0.2222222222222222,
             "#7201a8"
            ],
            [
             0.3333333333333333,
             "#9c179e"
            ],
            [
             0.4444444444444444,
             "#bd3786"
            ],
            [
             0.5555555555555556,
             "#d8576b"
            ],
            [
             0.6666666666666666,
             "#ed7953"
            ],
            [
             0.7777777777777778,
             "#fb9f3a"
            ],
            [
             0.8888888888888888,
             "#fdca26"
            ],
            [
             1,
             "#f0f921"
            ]
           ]
          },
          "colorway": [
           "#636efa",
           "#EF553B",
           "#00cc96",
           "#ab63fa",
           "#FFA15A",
           "#19d3f3",
           "#FF6692",
           "#B6E880",
           "#FF97FF",
           "#FECB52"
          ],
          "font": {
           "color": "#2a3f5f"
          },
          "geo": {
           "bgcolor": "white",
           "lakecolor": "white",
           "landcolor": "#E5ECF6",
           "showlakes": true,
           "showland": true,
           "subunitcolor": "white"
          },
          "hoverlabel": {
           "align": "left"
          },
          "hovermode": "closest",
          "mapbox": {
           "style": "light"
          },
          "paper_bgcolor": "white",
          "plot_bgcolor": "#E5ECF6",
          "polar": {
           "angularaxis": {
            "gridcolor": "white",
            "linecolor": "white",
            "ticks": ""
           },
           "bgcolor": "#E5ECF6",
           "radialaxis": {
            "gridcolor": "white",
            "linecolor": "white",
            "ticks": ""
           }
          },
          "scene": {
           "xaxis": {
            "backgroundcolor": "#E5ECF6",
            "gridcolor": "white",
            "gridwidth": 2,
            "linecolor": "white",
            "showbackground": true,
            "ticks": "",
            "zerolinecolor": "white"
           },
           "yaxis": {
            "backgroundcolor": "#E5ECF6",
            "gridcolor": "white",
            "gridwidth": 2,
            "linecolor": "white",
            "showbackground": true,
            "ticks": "",
            "zerolinecolor": "white"
           },
           "zaxis": {
            "backgroundcolor": "#E5ECF6",
            "gridcolor": "white",
            "gridwidth": 2,
            "linecolor": "white",
            "showbackground": true,
            "ticks": "",
            "zerolinecolor": "white"
           }
          },
          "shapedefaults": {
           "line": {
            "color": "#2a3f5f"
           }
          },
          "ternary": {
           "aaxis": {
            "gridcolor": "white",
            "linecolor": "white",
            "ticks": ""
           },
           "baxis": {
            "gridcolor": "white",
            "linecolor": "white",
            "ticks": ""
           },
           "bgcolor": "#E5ECF6",
           "caxis": {
            "gridcolor": "white",
            "linecolor": "white",
            "ticks": ""
           }
          },
          "title": {
           "x": 0.05
          },
          "xaxis": {
           "automargin": true,
           "gridcolor": "white",
           "linecolor": "white",
           "ticks": "",
           "title": {
            "standoff": 15
           },
           "zerolinecolor": "white",
           "zerolinewidth": 2
          },
          "yaxis": {
           "automargin": true,
           "gridcolor": "white",
           "linecolor": "white",
           "ticks": "",
           "title": {
            "standoff": 15
           },
           "zerolinecolor": "white",
           "zerolinewidth": 2
          }
         }
        },
        "title": {
         "font": {
          "color": "white"
         },
         "text": "Global Covid Vaccination Rates"
        },
        "width": 1400
       }
      }
     },
     "metadata": {},
     "output_type": "display_data"
    }
   ],
   "source": [
    "import plotly.graph_objects as go\n",
    "\n",
    "vaccinations_current['hover_text'] = 'Location: ' + vaccinations_current['location'] + '<br>Population: ' + vaccinations_current[\"total_population\"].astype(str) + '<br>Percent Vaccinated: ' + vaccinations_current[\"percent_vaccinated\"].astype(str)\n",
    "\n",
    "layout = {\n",
    "    'title': go.layout.Title({\n",
    "        'text': 'Global Covid Vaccination Rates',\n",
    "        'font': {\n",
    "            'color': 'white'\n",
    "        }\n",
    "    }),\n",
    "    'legend': go.layout.Legend(\n",
    "        {\n",
    "            'font': {\n",
    "                'color': 'white'\n",
    "            }\n",
    "        }\n",
    "    ),\n",
    "    'height': 1000,\n",
    "    'width': 1400,\n",
    "    'paper_bgcolor': 'rgba(0,0,0,0.9)',\n",
    "    'geo': go.layout.Geo({\n",
    "        'bgcolor': 'rgba(0,0,0,0.9)',\n",
    "        'showocean': True,\n",
    "        'oceancolor': 'rgba(51,153,255,0.9)',\n",
    "        'showland': True,\n",
    "        'landcolor': 'rgb(40,40,43,1)',\n",
    "        'resolution': 50,\n",
    "        'scope': 'world',\n",
    "        'showframe': True,\n",
    "        'showcoastlines': True,\n",
    "        'showcountries': True,\n",
    "        'projection_type': 'orthographic',\n",
    "    }),\n",
    "}\n",
    "\n",
    "\n",
    "colors = ['rgba(108,40,117,1)', 'rgba(129,92,143,1)', 'rgba(163,137,173,1)', 'rgba(202,183,201,1)', 'rgba(224,224,224,1)', \n",
    "    'rgba(184,207,181,1)', 'rgba(161,203,151,1)', 'rgba(77,162,91,1)', 'rgba(19,108,53,1)', 'rgba(8,93,23,1)']\n",
    "data = [ \n",
    "    go.Scattergeo(\n",
    "        locationmode = 'ISO-3',\n",
    "        locations = vaccinations_current[vaccinations_current['percent_vaccinated'] < 10]['iso_code'],\n",
    "        text = vaccinations_current[vaccinations_current['percent_vaccinated'] < 10]['percent_vaccinated'],\n",
    "        hovertext = vaccinations_current[vaccinations_current['percent_vaccinated'] < 10]['hover_text'],\n",
    "        name = '<10',\n",
    "        mode = 'markers',\n",
    "        marker=dict(\n",
    "            size=10,\n",
    "            sizemode='area',\n",
    "            opacity=0.9,\n",
    "            color = colors[1]\n",
    "        )\n",
    "    ),\n",
    "    go.Scattergeo(\n",
    "        locationmode = 'ISO-3',\n",
    "        locations = vaccinations_current[vaccinations_current['percent_vaccinated'].between(10, 20, inclusive='left')]['iso_code'],\n",
    "        text = vaccinations_current[vaccinations_current['percent_vaccinated'].between(10, 20, inclusive='left')]['percent_vaccinated'],\n",
    "        hovertext = vaccinations_current[vaccinations_current['percent_vaccinated'].between(10, 20, inclusive='left')]['hover_text'],\n",
    "        name = '10-20',\n",
    "        mode = 'markers',\n",
    "        marker=dict(\n",
    "            size=15,\n",
    "            sizemode='area',\n",
    "            opacity=0.9,\n",
    "            color = colors[2]\n",
    "        )\n",
    "    ),\n",
    "    go.Scattergeo(\n",
    "        locationmode = 'ISO-3',\n",
    "        locations = vaccinations_current[vaccinations_current['percent_vaccinated'].between(20, 30, inclusive='left')]['iso_code'],\n",
    "        text = vaccinations_current[vaccinations_current['percent_vaccinated'].between(20, 30, inclusive='left')]['percent_vaccinated'],\n",
    "        hovertext = vaccinations_current[vaccinations_current['percent_vaccinated'].between(20, 30, inclusive='left')]['hover_text'],\n",
    "        name = '20-30',\n",
    "        mode = 'markers',\n",
    "        marker=dict(\n",
    "            size=20,\n",
    "            sizemode='area',\n",
    "            opacity=0.9,\n",
    "            color = colors[3]\n",
    "        )\n",
    "    ),\n",
    "    go.Scattergeo(\n",
    "        locationmode = 'ISO-3',\n",
    "        locations = vaccinations_current[vaccinations_current['percent_vaccinated'].between(30, 40, inclusive='left')]['iso_code'],\n",
    "        text = vaccinations_current[vaccinations_current['percent_vaccinated'].between(30, 40, inclusive='left')]['percent_vaccinated'],\n",
    "        hovertext = vaccinations_current[vaccinations_current['percent_vaccinated'].between(30, 40, inclusive='left')]['hover_text'],\n",
    "        name = '30-40',\n",
    "        mode = 'markers',\n",
    "        marker=dict(\n",
    "            size=25,\n",
    "            sizemode='area',\n",
    "            opacity=0.9,\n",
    "            color = colors[4]\n",
    "        )\n",
    "    ),\n",
    "    go.Scattergeo(\n",
    "        locationmode = 'ISO-3',\n",
    "        locations = vaccinations_current[vaccinations_current['percent_vaccinated'].between(40, 50, inclusive='left')]['iso_code'],\n",
    "        text = vaccinations_current[vaccinations_current['percent_vaccinated'].between(40, 50, inclusive='left')]['percent_vaccinated'],\n",
    "        hovertext = vaccinations_current[vaccinations_current['percent_vaccinated'].between(40, 50, inclusive='left')]['hover_text'],\n",
    "        name = '40-50',\n",
    "        mode = 'markers',\n",
    "        marker=dict(\n",
    "            size=30,\n",
    "            sizemode='area',\n",
    "            opacity=0.9,\n",
    "            color = colors[5]\n",
    "        )\n",
    "    ),\n",
    "    go.Scattergeo(\n",
    "        locationmode = 'ISO-3',\n",
    "        locations = vaccinations_current[vaccinations_current['percent_vaccinated'].between(50, 60, inclusive='left')]['iso_code'],\n",
    "        text = vaccinations_current[vaccinations_current['percent_vaccinated'].between(50, 60, inclusive='left')]['percent_vaccinated'],\n",
    "        hovertext = vaccinations_current[vaccinations_current['percent_vaccinated'].between(50, 60, inclusive='left')]['hover_text'],\n",
    "        name = '50-60',\n",
    "        mode = 'markers',\n",
    "        marker=dict(\n",
    "            size=35,\n",
    "            sizemode='area',\n",
    "            opacity=0.9,\n",
    "            color = colors[6]\n",
    "        )\n",
    "    ),\n",
    "    go.Scattergeo(\n",
    "        locationmode = 'ISO-3',\n",
    "        locations = vaccinations_current[vaccinations_current['percent_vaccinated'].between(60, 70, inclusive='left')]['iso_code'],\n",
    "        text = vaccinations_current[vaccinations_current['percent_vaccinated'].between(60, 70, inclusive='left')]['percent_vaccinated'],\n",
    "        hovertext = vaccinations_current[vaccinations_current['percent_vaccinated'].between(60, 70, inclusive='left')]['hover_text'],\n",
    "        name = '60-70',\n",
    "        mode = 'markers',\n",
    "        marker=dict(\n",
    "            size=40,\n",
    "            sizemode='area',\n",
    "            opacity=0.9,\n",
    "            color = colors[6]\n",
    "        )\n",
    "    ),\n",
    "    go.Scattergeo(\n",
    "        locationmode = 'ISO-3',\n",
    "        locations = vaccinations_current[vaccinations_current['percent_vaccinated'].between(70, 80, inclusive='left')]['iso_code'],\n",
    "        text = vaccinations_current[vaccinations_current['percent_vaccinated'].between(70, 80, inclusive='left')]['percent_vaccinated'],\n",
    "        hovertext = vaccinations_current[vaccinations_current['percent_vaccinated'].between(70, 80, inclusive='left')]['hover_text'],\n",
    "        name = '70-80',\n",
    "        mode = 'markers',\n",
    "        marker=dict(\n",
    "            size=45,\n",
    "            sizemode='area',\n",
    "            opacity=0.9,\n",
    "            color = colors[7]\n",
    "        )\n",
    "    ),\n",
    "    go.Scattergeo(\n",
    "        locationmode = 'ISO-3',\n",
    "        locations = vaccinations_current[vaccinations_current['percent_vaccinated'].between(80, 90, inclusive='left')]['iso_code'],\n",
    "        text = vaccinations_current[vaccinations_current['percent_vaccinated'].between(80, 90, inclusive='left')]['percent_vaccinated'],\n",
    "        hovertext = vaccinations_current[vaccinations_current['percent_vaccinated'].between(80, 90, inclusive='left')]['hover_text'],\n",
    "        name = '80-90',\n",
    "        mode = 'markers',\n",
    "        marker=dict(\n",
    "            size=50,\n",
    "            sizemode='area',\n",
    "            opacity=0.9,\n",
    "            color = colors[8]\n",
    "        )\n",
    "    ),\n",
    "    go.Scattergeo(\n",
    "        locationmode = 'ISO-3',\n",
    "        locations = vaccinations_current[vaccinations_current['percent_vaccinated'] >= 90]['iso_code'],\n",
    "        text = vaccinations_current[vaccinations_current['percent_vaccinated'] >= 90]['percent_vaccinated'],\n",
    "        hovertext = vaccinations_current[vaccinations_current['percent_vaccinated'] >= 90]['hover_text'],\n",
    "        name = '>=90',\n",
    "        mode = 'markers',\n",
    "        marker=dict(\n",
    "            size=np.log1p(vaccinations_current[vaccinations_current['percent_vaccinated'] >= 90]['percent_vaccinated'])**2,\n",
    "            sizemode='area',\n",
    "            opacity=0.9,\n",
    "            color = colors[9]\n",
    "        )\n",
    "    ),\n",
    "]\n",
    "\n",
    "fig = go.Figure(data=data, layout=layout)\n",
    "\n",
    "fig.show()\n",
    "    "
   ]
  },
  {
   "cell_type": "markdown",
   "metadata": {},
   "source": [
    "## Concluding Thoughts"
   ]
  },
  {
   "cell_type": "markdown",
   "metadata": {},
   "source": [
    "For our final visualization I wanted to use muted colors for the background and land, a blushish color for the ocean, and finally I wanted to represent the vaccination data in two forms. Firstly, was to scale the bubble size with the vaccination rate. Secondly, I used different colors to represent different vaccination percentiles. The outcome creates the effect large green bubbles or regions in which there are higher vaccination rates.\n",
    "\n",
    "To conclude, In this writeup we outlined our data exploration, data cleaning, and visualizations. We showed multiple forms of visualizations and achieved our desired outcome of a interactive map that effectively shows vaccinations rates by country. And most importantly, we learned about the greatest Red Crab Migration on earth."
   ]
  },
  {
   "cell_type": "markdown",
   "metadata": {},
   "source": [
    "## Resources"
   ]
  },
  {
   "cell_type": "markdown",
   "metadata": {},
   "source": [
    "- See the live map in action at: https://stay-vaccinated.herokuapp.com/\n",
    "- Github: https://github.com/cushind/stay-vaccinated"
   ]
  }
 ],
 "metadata": {
  "interpreter": {
   "hash": "a4fe62d7d3246e6d3341f70c7cd255a4eb953f5e9f0792fb82ae41e6490ce796"
  },
  "kernelspec": {
   "display_name": "Python 3.8.6 64-bit ('venv': venv)",
   "language": "python",
   "name": "python3"
  },
  "language_info": {
   "codemirror_mode": {
    "name": "ipython",
    "version": 3
   },
   "file_extension": ".py",
   "mimetype": "text/x-python",
   "name": "python",
   "nbconvert_exporter": "python",
   "pygments_lexer": "ipython3",
   "version": "3.8.6"
  },
  "orig_nbformat": 4
 },
 "nbformat": 4,
 "nbformat_minor": 2
}
